{
 "cells": [
  {
   "cell_type": "markdown",
   "metadata": {},
   "source": [
    "# Latar Belakang"
   ]
  },
  {
   "cell_type": "markdown",
   "metadata": {},
   "source": [
    "Transjakarta adalah moda transportasi umum yang berfokus kepada pelayanan dalam kota. Transjakarta sudah berdiri sejak 20 tahun yang lalu dan semua element masyarakat sudah merasakan dampak baik dari moda transportasi ini, akan tetapi ada dari sebagian penumpang transjakarta ada yang tidak merasakan dampak baik dari fasilitas transjakarta diantaranya usia lanjut dan masih banyak pengamatan lainnya"
   ]
  },
  {
   "cell_type": "markdown",
   "metadata": {},
   "source": [
    "# Perumusan Masalah "
   ]
  },
  {
   "cell_type": "markdown",
   "metadata": {},
   "source": [
    "1. transjakarta ingin mengetahui penumpang mana saja yang belum mendapatkan hak & prioritas yang telah di tentukan oleh transjakarta \n",
    "2. memahami pola perjalanan penumpah di berbagai koridor\n",
    "3. menilai waktu sibuk dan area dengan jumlah penumpang tertinggi\n",
    "4. menganalisis preferensi penumpang terhadap titik masuk dan keluar tertentu\n",
    "5. megetahui fasilitas IOT yang sering missed pada tapsout berdasarkan koridor\n"
   ]
  },
  {
   "cell_type": "markdown",
   "metadata": {},
   "source": [
    "# Goals"
   ]
  },
  {
   "cell_type": "markdown",
   "metadata": {},
   "source": [
    "1. Merancang rute atau jadwal baru berdasarkan kebutuhan dan preferensi penumpang\n",
    "2. Membuat rencana investasi berdasarkan data proyeksi evaluasi kapasitas saat ini\n",
    "3. Menyusun strategi untuk meningkatkan efisiensi operasional secara keseluruhan\n",
    "4. Menilai data untuk mengidentifikasi titik-titik potensial risiko keselamatan.\n",
    "5. Memprioritaskan proyek infrastruktur untuk mendukung pertumbuhan jangka panjang"
   ]
  },
  {
   "cell_type": "markdown",
   "metadata": {},
   "source": [
    "## Dataset General Information"
   ]
  },
  {
   "cell_type": "code",
   "execution_count": 1,
   "metadata": {},
   "outputs": [],
   "source": [
    "import pandas as pd \n",
    "import numpy as np\n",
    "import seaborn as sns\n",
    "import matplotlib.pyplot as plt\n",
    "import pandas as pd\n",
    "from geopy.geocoders import Nominatim\n",
    "import sklearn\n",
    "import statsmodels\n",
    "import math\n",
    "\n",
    "import warnings \n",
    "warnings.filterwarnings('ignore')"
   ]
  },
  {
   "cell_type": "code",
   "execution_count": 2,
   "metadata": {},
   "outputs": [
    {
     "data": {
      "text/html": [
       "<div>\n",
       "<style scoped>\n",
       "    .dataframe tbody tr th:only-of-type {\n",
       "        vertical-align: middle;\n",
       "    }\n",
       "\n",
       "    .dataframe tbody tr th {\n",
       "        vertical-align: top;\n",
       "    }\n",
       "\n",
       "    .dataframe thead th {\n",
       "        text-align: right;\n",
       "    }\n",
       "</style>\n",
       "<table border=\"1\" class=\"dataframe\">\n",
       "  <thead>\n",
       "    <tr style=\"text-align: right;\">\n",
       "      <th></th>\n",
       "      <th>transID</th>\n",
       "      <th>payCardID</th>\n",
       "      <th>payCardBank</th>\n",
       "      <th>payCardName</th>\n",
       "      <th>payCardSex</th>\n",
       "      <th>payCardBirthDate</th>\n",
       "      <th>corridorID</th>\n",
       "      <th>corridorName</th>\n",
       "      <th>direction</th>\n",
       "      <th>tapInStops</th>\n",
       "      <th>...</th>\n",
       "      <th>tapInStopsLon</th>\n",
       "      <th>stopStartSeq</th>\n",
       "      <th>tapInTime</th>\n",
       "      <th>tapOutStops</th>\n",
       "      <th>tapOutStopsName</th>\n",
       "      <th>tapOutStopsLat</th>\n",
       "      <th>tapOutStopsLon</th>\n",
       "      <th>stopEndSeq</th>\n",
       "      <th>tapOutTime</th>\n",
       "      <th>payAmount</th>\n",
       "    </tr>\n",
       "  </thead>\n",
       "  <tbody>\n",
       "    <tr>\n",
       "      <th>0</th>\n",
       "      <td>EIIW227B8L34VB</td>\n",
       "      <td>180062659848800</td>\n",
       "      <td>emoney</td>\n",
       "      <td>Bajragin Usada</td>\n",
       "      <td>M</td>\n",
       "      <td>2008</td>\n",
       "      <td>5</td>\n",
       "      <td>Matraman Baru - Ancol</td>\n",
       "      <td>1.0</td>\n",
       "      <td>P00142</td>\n",
       "      <td>...</td>\n",
       "      <td>106.84402</td>\n",
       "      <td>7</td>\n",
       "      <td>2023-04-03 05:21:44</td>\n",
       "      <td>P00253</td>\n",
       "      <td>Tegalan</td>\n",
       "      <td>-6.203101</td>\n",
       "      <td>106.85715</td>\n",
       "      <td>12.0</td>\n",
       "      <td>2023-04-03 06:00:53</td>\n",
       "      <td>3500.0</td>\n",
       "    </tr>\n",
       "    <tr>\n",
       "      <th>1</th>\n",
       "      <td>LGXO740D2N47GZ</td>\n",
       "      <td>4885331907664776</td>\n",
       "      <td>dki</td>\n",
       "      <td>Gandi Widodo</td>\n",
       "      <td>F</td>\n",
       "      <td>1997</td>\n",
       "      <td>6C</td>\n",
       "      <td>Stasiun Tebet - Karet via Patra Kuningan</td>\n",
       "      <td>0.0</td>\n",
       "      <td>B01963P</td>\n",
       "      <td>...</td>\n",
       "      <td>106.83302</td>\n",
       "      <td>13</td>\n",
       "      <td>2023-04-03 05:42:44</td>\n",
       "      <td>B03307P</td>\n",
       "      <td>Sampoerna Strategic</td>\n",
       "      <td>-6.217152</td>\n",
       "      <td>106.81892</td>\n",
       "      <td>21.0</td>\n",
       "      <td>2023-04-03 06:40:01</td>\n",
       "      <td>3500.0</td>\n",
       "    </tr>\n",
       "    <tr>\n",
       "      <th>2</th>\n",
       "      <td>DJWR385V2U57TO</td>\n",
       "      <td>4996225095064169</td>\n",
       "      <td>dki</td>\n",
       "      <td>Emong Wastuti</td>\n",
       "      <td>F</td>\n",
       "      <td>1992</td>\n",
       "      <td>R1A</td>\n",
       "      <td>Pantai Maju - Kota</td>\n",
       "      <td>0.0</td>\n",
       "      <td>B00499P</td>\n",
       "      <td>...</td>\n",
       "      <td>106.81435</td>\n",
       "      <td>38</td>\n",
       "      <td>2023-04-03 05:59:06</td>\n",
       "      <td>B04962P</td>\n",
       "      <td>Simpang Kunir Kemukus</td>\n",
       "      <td>-6.133731</td>\n",
       "      <td>106.81475</td>\n",
       "      <td>39.0</td>\n",
       "      <td>2023-04-03 06:50:55</td>\n",
       "      <td>3500.0</td>\n",
       "    </tr>\n",
       "    <tr>\n",
       "      <th>3</th>\n",
       "      <td>JTUZ800U7C86EH</td>\n",
       "      <td>639099174703</td>\n",
       "      <td>flazz</td>\n",
       "      <td>Surya Wacana</td>\n",
       "      <td>F</td>\n",
       "      <td>1978</td>\n",
       "      <td>11D</td>\n",
       "      <td>Pulo Gebang - Pulo Gadung 2 via PIK</td>\n",
       "      <td>0.0</td>\n",
       "      <td>B05587P</td>\n",
       "      <td>...</td>\n",
       "      <td>106.93526</td>\n",
       "      <td>23</td>\n",
       "      <td>2023-04-03 05:44:51</td>\n",
       "      <td>B03090P</td>\n",
       "      <td>Raya Penggilingan</td>\n",
       "      <td>-6.183068</td>\n",
       "      <td>106.93194</td>\n",
       "      <td>29.0</td>\n",
       "      <td>2023-04-03 06:28:16</td>\n",
       "      <td>3500.0</td>\n",
       "    </tr>\n",
       "    <tr>\n",
       "      <th>4</th>\n",
       "      <td>VMLO535V7F95NJ</td>\n",
       "      <td>570928206772</td>\n",
       "      <td>flazz</td>\n",
       "      <td>Embuh Mardhiyah</td>\n",
       "      <td>M</td>\n",
       "      <td>1982</td>\n",
       "      <td>12</td>\n",
       "      <td>Tanjung Priok - Pluit</td>\n",
       "      <td>0.0</td>\n",
       "      <td>P00239</td>\n",
       "      <td>...</td>\n",
       "      <td>106.88900</td>\n",
       "      <td>5</td>\n",
       "      <td>2023-04-03 06:17:35</td>\n",
       "      <td>P00098</td>\n",
       "      <td>Kali Besar Barat</td>\n",
       "      <td>-6.135355</td>\n",
       "      <td>106.81143</td>\n",
       "      <td>15.0</td>\n",
       "      <td>2023-04-03 06:57:03</td>\n",
       "      <td>3500.0</td>\n",
       "    </tr>\n",
       "    <tr>\n",
       "      <th>...</th>\n",
       "      <td>...</td>\n",
       "      <td>...</td>\n",
       "      <td>...</td>\n",
       "      <td>...</td>\n",
       "      <td>...</td>\n",
       "      <td>...</td>\n",
       "      <td>...</td>\n",
       "      <td>...</td>\n",
       "      <td>...</td>\n",
       "      <td>...</td>\n",
       "      <td>...</td>\n",
       "      <td>...</td>\n",
       "      <td>...</td>\n",
       "      <td>...</td>\n",
       "      <td>...</td>\n",
       "      <td>...</td>\n",
       "      <td>...</td>\n",
       "      <td>...</td>\n",
       "      <td>...</td>\n",
       "      <td>...</td>\n",
       "      <td>...</td>\n",
       "    </tr>\n",
       "    <tr>\n",
       "      <th>37895</th>\n",
       "      <td>ZWEC949B8Q87QG</td>\n",
       "      <td>4685818286724028395</td>\n",
       "      <td>brizzi</td>\n",
       "      <td>Kamila Mahendra</td>\n",
       "      <td>F</td>\n",
       "      <td>2004</td>\n",
       "      <td>6B</td>\n",
       "      <td>Ragunan - MH Thamrin via Semanggi</td>\n",
       "      <td>1.0</td>\n",
       "      <td>P00261</td>\n",
       "      <td>...</td>\n",
       "      <td>106.82309</td>\n",
       "      <td>2</td>\n",
       "      <td>2023-04-21 18:18:37</td>\n",
       "      <td>P00228</td>\n",
       "      <td>SMK 57</td>\n",
       "      <td>-6.290967</td>\n",
       "      <td>106.82365</td>\n",
       "      <td>13.0</td>\n",
       "      <td>2023-04-21 19:55:49</td>\n",
       "      <td>3500.0</td>\n",
       "    </tr>\n",
       "    <tr>\n",
       "      <th>37896</th>\n",
       "      <td>YHHK837P6Y95GN</td>\n",
       "      <td>6502902290603767</td>\n",
       "      <td>dki</td>\n",
       "      <td>Titi Siregar</td>\n",
       "      <td>M</td>\n",
       "      <td>1974</td>\n",
       "      <td>9N</td>\n",
       "      <td>Pinang Ranti - Pramuka</td>\n",
       "      <td>1.0</td>\n",
       "      <td>P00064</td>\n",
       "      <td>...</td>\n",
       "      <td>106.88116</td>\n",
       "      <td>1</td>\n",
       "      <td>2023-04-18 21:52:31</td>\n",
       "      <td>P00179</td>\n",
       "      <td>Pinang Ranti</td>\n",
       "      <td>-6.291075</td>\n",
       "      <td>106.88634</td>\n",
       "      <td>2.0</td>\n",
       "      <td>2023-04-18 22:28:22</td>\n",
       "      <td>3500.0</td>\n",
       "    </tr>\n",
       "    <tr>\n",
       "      <th>37897</th>\n",
       "      <td>YXPP627N4G95HO</td>\n",
       "      <td>213159426675861</td>\n",
       "      <td>emoney</td>\n",
       "      <td>drg. Zahra Nashiruddin</td>\n",
       "      <td>F</td>\n",
       "      <td>1976</td>\n",
       "      <td>1T</td>\n",
       "      <td>Cibubur - Balai Kota</td>\n",
       "      <td>1.0</td>\n",
       "      <td>B02873P</td>\n",
       "      <td>...</td>\n",
       "      <td>106.81676</td>\n",
       "      <td>12</td>\n",
       "      <td>2023-04-04 10:29:47</td>\n",
       "      <td>B00226P</td>\n",
       "      <td>Buperta Cibubur</td>\n",
       "      <td>-6.370321</td>\n",
       "      <td>106.89628</td>\n",
       "      <td>14.0</td>\n",
       "      <td>2023-04-04 13:27:25</td>\n",
       "      <td>20000.0</td>\n",
       "    </tr>\n",
       "    <tr>\n",
       "      <th>37898</th>\n",
       "      <td>RGVK175U2U98UV</td>\n",
       "      <td>377840859133591</td>\n",
       "      <td>emoney</td>\n",
       "      <td>Ana Agustina</td>\n",
       "      <td>M</td>\n",
       "      <td>1976</td>\n",
       "      <td>JAK.13</td>\n",
       "      <td>Tanah Abang - Jembatan Lima</td>\n",
       "      <td>1.0</td>\n",
       "      <td>B02505P</td>\n",
       "      <td>...</td>\n",
       "      <td>106.80954</td>\n",
       "      <td>33</td>\n",
       "      <td>2023-04-15 19:59:26</td>\n",
       "      <td>B01787P</td>\n",
       "      <td>JPO Blok G</td>\n",
       "      <td>-6.188861</td>\n",
       "      <td>106.81135</td>\n",
       "      <td>34.0</td>\n",
       "      <td>2023-04-15 20:27:50</td>\n",
       "      <td>0.0</td>\n",
       "    </tr>\n",
       "    <tr>\n",
       "      <th>37899</th>\n",
       "      <td>FMZZ963S4B68ZP</td>\n",
       "      <td>501862539795</td>\n",
       "      <td>flazz</td>\n",
       "      <td>drg. Leo Najmudin</td>\n",
       "      <td>F</td>\n",
       "      <td>1985</td>\n",
       "      <td>13</td>\n",
       "      <td>Ciledug - Tendean</td>\n",
       "      <td>0.0</td>\n",
       "      <td>P00001</td>\n",
       "      <td>...</td>\n",
       "      <td>106.74786</td>\n",
       "      <td>2</td>\n",
       "      <td>2023-04-12 21:08:12</td>\n",
       "      <td>P00106</td>\n",
       "      <td>Kebayoran Lama</td>\n",
       "      <td>-6.238340</td>\n",
       "      <td>106.77752</td>\n",
       "      <td>7.0</td>\n",
       "      <td>2023-04-12 21:34:53</td>\n",
       "      <td>3500.0</td>\n",
       "    </tr>\n",
       "  </tbody>\n",
       "</table>\n",
       "<p>37900 rows × 22 columns</p>\n",
       "</div>"
      ],
      "text/plain": [
       "              transID            payCardID payCardBank  \\\n",
       "0      EIIW227B8L34VB      180062659848800      emoney   \n",
       "1      LGXO740D2N47GZ     4885331907664776         dki   \n",
       "2      DJWR385V2U57TO     4996225095064169         dki   \n",
       "3      JTUZ800U7C86EH         639099174703       flazz   \n",
       "4      VMLO535V7F95NJ         570928206772       flazz   \n",
       "...               ...                  ...         ...   \n",
       "37895  ZWEC949B8Q87QG  4685818286724028395      brizzi   \n",
       "37896  YHHK837P6Y95GN     6502902290603767         dki   \n",
       "37897  YXPP627N4G95HO      213159426675861      emoney   \n",
       "37898  RGVK175U2U98UV      377840859133591      emoney   \n",
       "37899  FMZZ963S4B68ZP         501862539795       flazz   \n",
       "\n",
       "                  payCardName payCardSex  payCardBirthDate corridorID  \\\n",
       "0              Bajragin Usada          M              2008          5   \n",
       "1                Gandi Widodo          F              1997         6C   \n",
       "2               Emong Wastuti          F              1992        R1A   \n",
       "3                Surya Wacana          F              1978        11D   \n",
       "4             Embuh Mardhiyah          M              1982         12   \n",
       "...                       ...        ...               ...        ...   \n",
       "37895         Kamila Mahendra          F              2004         6B   \n",
       "37896            Titi Siregar          M              1974         9N   \n",
       "37897  drg. Zahra Nashiruddin          F              1976         1T   \n",
       "37898            Ana Agustina          M              1976     JAK.13   \n",
       "37899       drg. Leo Najmudin          F              1985         13   \n",
       "\n",
       "                                   corridorName  direction tapInStops  ...  \\\n",
       "0                         Matraman Baru - Ancol        1.0     P00142  ...   \n",
       "1      Stasiun Tebet - Karet via Patra Kuningan        0.0    B01963P  ...   \n",
       "2                            Pantai Maju - Kota        0.0    B00499P  ...   \n",
       "3           Pulo Gebang - Pulo Gadung 2 via PIK        0.0    B05587P  ...   \n",
       "4                         Tanjung Priok - Pluit        0.0     P00239  ...   \n",
       "...                                         ...        ...        ...  ...   \n",
       "37895         Ragunan - MH Thamrin via Semanggi        1.0     P00261  ...   \n",
       "37896                    Pinang Ranti - Pramuka        1.0     P00064  ...   \n",
       "37897                      Cibubur - Balai Kota        1.0    B02873P  ...   \n",
       "37898               Tanah Abang - Jembatan Lima        1.0    B02505P  ...   \n",
       "37899                         Ciledug - Tendean        0.0     P00001  ...   \n",
       "\n",
       "      tapInStopsLon  stopStartSeq            tapInTime  tapOutStops  \\\n",
       "0         106.84402             7  2023-04-03 05:21:44       P00253   \n",
       "1         106.83302            13  2023-04-03 05:42:44      B03307P   \n",
       "2         106.81435            38  2023-04-03 05:59:06      B04962P   \n",
       "3         106.93526            23  2023-04-03 05:44:51      B03090P   \n",
       "4         106.88900             5  2023-04-03 06:17:35       P00098   \n",
       "...             ...           ...                  ...          ...   \n",
       "37895     106.82309             2  2023-04-21 18:18:37       P00228   \n",
       "37896     106.88116             1  2023-04-18 21:52:31       P00179   \n",
       "37897     106.81676            12  2023-04-04 10:29:47      B00226P   \n",
       "37898     106.80954            33  2023-04-15 19:59:26      B01787P   \n",
       "37899     106.74786             2  2023-04-12 21:08:12       P00106   \n",
       "\n",
       "             tapOutStopsName tapOutStopsLat tapOutStopsLon  stopEndSeq  \\\n",
       "0                    Tegalan      -6.203101      106.85715        12.0   \n",
       "1        Sampoerna Strategic      -6.217152      106.81892        21.0   \n",
       "2      Simpang Kunir Kemukus      -6.133731      106.81475        39.0   \n",
       "3          Raya Penggilingan      -6.183068      106.93194        29.0   \n",
       "4           Kali Besar Barat      -6.135355      106.81143        15.0   \n",
       "...                      ...            ...            ...         ...   \n",
       "37895                 SMK 57      -6.290967      106.82365        13.0   \n",
       "37896           Pinang Ranti      -6.291075      106.88634         2.0   \n",
       "37897        Buperta Cibubur      -6.370321      106.89628        14.0   \n",
       "37898             JPO Blok G      -6.188861      106.81135        34.0   \n",
       "37899         Kebayoran Lama      -6.238340      106.77752         7.0   \n",
       "\n",
       "                tapOutTime  payAmount  \n",
       "0      2023-04-03 06:00:53     3500.0  \n",
       "1      2023-04-03 06:40:01     3500.0  \n",
       "2      2023-04-03 06:50:55     3500.0  \n",
       "3      2023-04-03 06:28:16     3500.0  \n",
       "4      2023-04-03 06:57:03     3500.0  \n",
       "...                    ...        ...  \n",
       "37895  2023-04-21 19:55:49     3500.0  \n",
       "37896  2023-04-18 22:28:22     3500.0  \n",
       "37897  2023-04-04 13:27:25    20000.0  \n",
       "37898  2023-04-15 20:27:50        0.0  \n",
       "37899  2023-04-12 21:34:53     3500.0  \n",
       "\n",
       "[37900 rows x 22 columns]"
      ]
     },
     "execution_count": 2,
     "metadata": {},
     "output_type": "execute_result"
    }
   ],
   "source": [
    "tj = pd.read_csv(\"Transjakarta.csv\")\n",
    "tj"
   ]
  },
  {
   "cell_type": "markdown",
   "metadata": {},
   "source": [
    "menambahkan kolom umur ke DataFrame dan mengonversi kolom waktu ('tapInTime' dan 'tapOutTime') ke tipe data datetime untuk kemudahan pemrosesan waktu di dalam analisis data."
   ]
  },
  {
   "cell_type": "code",
   "execution_count": 3,
   "metadata": {},
   "outputs": [],
   "source": [
    "tj['Umur'] = 2023-tj['payCardBirthDate']\n",
    "tj['tapInTime'] = pd.to_datetime(tj['tapInTime'])\n",
    "tj['tapOutTime'] = pd.to_datetime(tj['tapOutTime'])"
   ]
  },
  {
   "cell_type": "code",
   "execution_count": 4,
   "metadata": {},
   "outputs": [
    {
     "data": {
      "text/plain": [
       "Index(['transID', 'payCardID', 'payCardBank', 'payCardName', 'payCardSex',\n",
       "       'payCardBirthDate', 'corridorID', 'corridorName', 'direction',\n",
       "       'tapInStops', 'tapInStopsName', 'tapInStopsLat', 'tapInStopsLon',\n",
       "       'stopStartSeq', 'tapInTime', 'tapOutStops', 'tapOutStopsName',\n",
       "       'tapOutStopsLat', 'tapOutStopsLon', 'stopEndSeq', 'tapOutTime',\n",
       "       'payAmount', 'Umur'],\n",
       "      dtype='object')"
      ]
     },
     "execution_count": 4,
     "metadata": {},
     "output_type": "execute_result"
    }
   ],
   "source": [
    "tj.columns"
   ]
  },
  {
   "cell_type": "code",
   "execution_count": 5,
   "metadata": {},
   "outputs": [
    {
     "data": {
      "text/plain": [
       "transID                0\n",
       "payCardID              0\n",
       "payCardBank            0\n",
       "payCardName            0\n",
       "payCardSex             0\n",
       "payCardBirthDate       0\n",
       "corridorID          1257\n",
       "corridorName        1930\n",
       "direction              0\n",
       "tapInStops          1213\n",
       "tapInStopsName         0\n",
       "tapInStopsLat          0\n",
       "tapInStopsLon          0\n",
       "stopStartSeq           0\n",
       "tapInTime              0\n",
       "tapOutStops         2289\n",
       "tapOutStopsName     1344\n",
       "tapOutStopsLat      1344\n",
       "tapOutStopsLon      1344\n",
       "stopEndSeq          1344\n",
       "tapOutTime          1344\n",
       "payAmount           1007\n",
       "Umur                   0\n",
       "dtype: int64"
      ]
     },
     "execution_count": 5,
     "metadata": {},
     "output_type": "execute_result"
    }
   ],
   "source": [
    "tj.isna().sum()"
   ]
  },
  {
   "cell_type": "code",
   "execution_count": 6,
   "metadata": {},
   "outputs": [
    {
     "data": {
      "text/html": [
       "<div>\n",
       "<style scoped>\n",
       "    .dataframe tbody tr th:only-of-type {\n",
       "        vertical-align: middle;\n",
       "    }\n",
       "\n",
       "    .dataframe tbody tr th {\n",
       "        vertical-align: top;\n",
       "    }\n",
       "\n",
       "    .dataframe thead th {\n",
       "        text-align: right;\n",
       "    }\n",
       "</style>\n",
       "<table border=\"1\" class=\"dataframe\">\n",
       "  <thead>\n",
       "    <tr style=\"text-align: right;\">\n",
       "      <th></th>\n",
       "      <th>transID</th>\n",
       "      <th>payCardID</th>\n",
       "      <th>payCardBank</th>\n",
       "      <th>payCardName</th>\n",
       "      <th>payCardSex</th>\n",
       "      <th>payCardBirthDate</th>\n",
       "      <th>corridorID</th>\n",
       "      <th>corridorName</th>\n",
       "      <th>direction</th>\n",
       "      <th>tapInStops</th>\n",
       "      <th>...</th>\n",
       "      <th>stopStartSeq</th>\n",
       "      <th>tapInTime</th>\n",
       "      <th>tapOutStops</th>\n",
       "      <th>tapOutStopsName</th>\n",
       "      <th>tapOutStopsLat</th>\n",
       "      <th>tapOutStopsLon</th>\n",
       "      <th>stopEndSeq</th>\n",
       "      <th>tapOutTime</th>\n",
       "      <th>payAmount</th>\n",
       "      <th>Umur</th>\n",
       "    </tr>\n",
       "  </thead>\n",
       "  <tbody>\n",
       "    <tr>\n",
       "      <th>7</th>\n",
       "      <td>XTKE052E5E87LN</td>\n",
       "      <td>3587341902618993</td>\n",
       "      <td>dki</td>\n",
       "      <td>Darmanto Rajasa</td>\n",
       "      <td>F</td>\n",
       "      <td>1991</td>\n",
       "      <td>NaN</td>\n",
       "      <td>NaN</td>\n",
       "      <td>1.0</td>\n",
       "      <td>B03416P</td>\n",
       "      <td>...</td>\n",
       "      <td>2</td>\n",
       "      <td>2023-04-03 06:44:24</td>\n",
       "      <td>B00899P</td>\n",
       "      <td>Jln. Baros</td>\n",
       "      <td>-6.311046</td>\n",
       "      <td>106.78400</td>\n",
       "      <td>12.0</td>\n",
       "      <td>2023-04-03 07:11:43</td>\n",
       "      <td>0.0</td>\n",
       "      <td>32</td>\n",
       "    </tr>\n",
       "    <tr>\n",
       "      <th>38</th>\n",
       "      <td>RLLZ887W3V14WZ</td>\n",
       "      <td>4947438345710982</td>\n",
       "      <td>dki</td>\n",
       "      <td>Rahayu Rahayu</td>\n",
       "      <td>F</td>\n",
       "      <td>2006</td>\n",
       "      <td>5M</td>\n",
       "      <td>NaN</td>\n",
       "      <td>1.0</td>\n",
       "      <td>B02994P</td>\n",
       "      <td>...</td>\n",
       "      <td>16</td>\n",
       "      <td>2023-04-03 05:29:43</td>\n",
       "      <td>B05707P</td>\n",
       "      <td>Term. Kampung Melayu 2</td>\n",
       "      <td>-6.224516</td>\n",
       "      <td>106.86685</td>\n",
       "      <td>30.0</td>\n",
       "      <td>2023-04-03 05:58:35</td>\n",
       "      <td>3500.0</td>\n",
       "      <td>17</td>\n",
       "    </tr>\n",
       "    <tr>\n",
       "      <th>39</th>\n",
       "      <td>JJEK861K6E37KF</td>\n",
       "      <td>3539535695881465</td>\n",
       "      <td>dki</td>\n",
       "      <td>Dr. Zulfa Tamba, S.E.I</td>\n",
       "      <td>M</td>\n",
       "      <td>1986</td>\n",
       "      <td>2</td>\n",
       "      <td>NaN</td>\n",
       "      <td>0.0</td>\n",
       "      <td>P00202</td>\n",
       "      <td>...</td>\n",
       "      <td>9</td>\n",
       "      <td>2023-04-03 05:28:22</td>\n",
       "      <td>P00137</td>\n",
       "      <td>Monas</td>\n",
       "      <td>-6.176248</td>\n",
       "      <td>106.82286</td>\n",
       "      <td>19.0</td>\n",
       "      <td>2023-04-03 06:02:36</td>\n",
       "      <td>3500.0</td>\n",
       "      <td>37</td>\n",
       "    </tr>\n",
       "    <tr>\n",
       "      <th>60</th>\n",
       "      <td>RHUT145C1U25ZY</td>\n",
       "      <td>4290559479079</td>\n",
       "      <td>online</td>\n",
       "      <td>Lutfan Hakim</td>\n",
       "      <td>M</td>\n",
       "      <td>2011</td>\n",
       "      <td>T21</td>\n",
       "      <td>NaN</td>\n",
       "      <td>1.0</td>\n",
       "      <td>B00589P</td>\n",
       "      <td>...</td>\n",
       "      <td>3</td>\n",
       "      <td>2023-04-03 05:43:48</td>\n",
       "      <td>B02556P</td>\n",
       "      <td>Palem Semi 1</td>\n",
       "      <td>-6.218812</td>\n",
       "      <td>106.61807</td>\n",
       "      <td>14.0</td>\n",
       "      <td>2023-04-03 06:09:12</td>\n",
       "      <td>20000.0</td>\n",
       "      <td>12</td>\n",
       "    </tr>\n",
       "    <tr>\n",
       "      <th>61</th>\n",
       "      <td>TWAK265Z0M88QR</td>\n",
       "      <td>213155263532652</td>\n",
       "      <td>emoney</td>\n",
       "      <td>Restu Waluyo</td>\n",
       "      <td>F</td>\n",
       "      <td>1984</td>\n",
       "      <td>12A</td>\n",
       "      <td>NaN</td>\n",
       "      <td>0.0</td>\n",
       "      <td>B05324P</td>\n",
       "      <td>...</td>\n",
       "      <td>9</td>\n",
       "      <td>2023-04-03 06:13:03</td>\n",
       "      <td>P00138</td>\n",
       "      <td>Museum Fatahillah</td>\n",
       "      <td>-6.133930</td>\n",
       "      <td>106.81209</td>\n",
       "      <td>18.0</td>\n",
       "      <td>2023-04-03 06:50:23</td>\n",
       "      <td>3500.0</td>\n",
       "      <td>39</td>\n",
       "    </tr>\n",
       "    <tr>\n",
       "      <th>...</th>\n",
       "      <td>...</td>\n",
       "      <td>...</td>\n",
       "      <td>...</td>\n",
       "      <td>...</td>\n",
       "      <td>...</td>\n",
       "      <td>...</td>\n",
       "      <td>...</td>\n",
       "      <td>...</td>\n",
       "      <td>...</td>\n",
       "      <td>...</td>\n",
       "      <td>...</td>\n",
       "      <td>...</td>\n",
       "      <td>...</td>\n",
       "      <td>...</td>\n",
       "      <td>...</td>\n",
       "      <td>...</td>\n",
       "      <td>...</td>\n",
       "      <td>...</td>\n",
       "      <td>...</td>\n",
       "      <td>...</td>\n",
       "      <td>...</td>\n",
       "    </tr>\n",
       "    <tr>\n",
       "      <th>37797</th>\n",
       "      <td>HBLN935K0C66OQ</td>\n",
       "      <td>4667337468542</td>\n",
       "      <td>online</td>\n",
       "      <td>drg. Bala Yolanda, S.Farm</td>\n",
       "      <td>M</td>\n",
       "      <td>1984</td>\n",
       "      <td>NaN</td>\n",
       "      <td>Rusun Marunda - Terminal Terpadu Pulo Gebang</td>\n",
       "      <td>1.0</td>\n",
       "      <td>B04607P</td>\n",
       "      <td>...</td>\n",
       "      <td>59</td>\n",
       "      <td>2023-04-29 19:18:55</td>\n",
       "      <td>B02223P</td>\n",
       "      <td>Marlindo Marunda</td>\n",
       "      <td>-6.121746</td>\n",
       "      <td>106.95715</td>\n",
       "      <td>61.0</td>\n",
       "      <td>2023-04-29 20:02:28</td>\n",
       "      <td>0.0</td>\n",
       "      <td>39</td>\n",
       "    </tr>\n",
       "    <tr>\n",
       "      <th>37815</th>\n",
       "      <td>OSYS465Q5O68VD</td>\n",
       "      <td>3534140838249087</td>\n",
       "      <td>dki</td>\n",
       "      <td>Saka Pradipta</td>\n",
       "      <td>M</td>\n",
       "      <td>2009</td>\n",
       "      <td>JAK.56</td>\n",
       "      <td>NaN</td>\n",
       "      <td>1.0</td>\n",
       "      <td>B04394P</td>\n",
       "      <td>...</td>\n",
       "      <td>45</td>\n",
       "      <td>2023-04-15 18:26:35</td>\n",
       "      <td>B05498P</td>\n",
       "      <td>St. Pesing</td>\n",
       "      <td>-6.161726</td>\n",
       "      <td>106.77127</td>\n",
       "      <td>52.0</td>\n",
       "      <td>2023-04-15 21:01:27</td>\n",
       "      <td>0.0</td>\n",
       "      <td>14</td>\n",
       "    </tr>\n",
       "    <tr>\n",
       "      <th>37824</th>\n",
       "      <td>TMCQ904W0L70TY</td>\n",
       "      <td>4741860768238</td>\n",
       "      <td>online</td>\n",
       "      <td>drg. Argono Nainggolan, S.Kom</td>\n",
       "      <td>F</td>\n",
       "      <td>1992</td>\n",
       "      <td>S21</td>\n",
       "      <td>NaN</td>\n",
       "      <td>1.0</td>\n",
       "      <td>B01094P</td>\n",
       "      <td>...</td>\n",
       "      <td>11</td>\n",
       "      <td>2023-04-07 09:25:03</td>\n",
       "      <td>P00185</td>\n",
       "      <td>Pondok Indah 2</td>\n",
       "      <td>-6.267231</td>\n",
       "      <td>106.78365</td>\n",
       "      <td>13.0</td>\n",
       "      <td>2023-04-07 12:12:33</td>\n",
       "      <td>3500.0</td>\n",
       "      <td>31</td>\n",
       "    </tr>\n",
       "    <tr>\n",
       "      <th>37838</th>\n",
       "      <td>GTLM961T1U29JA</td>\n",
       "      <td>4204405669287580</td>\n",
       "      <td>dki</td>\n",
       "      <td>Saka Wijaya, S.H.</td>\n",
       "      <td>M</td>\n",
       "      <td>1995</td>\n",
       "      <td>NaN</td>\n",
       "      <td>NaN</td>\n",
       "      <td>1.0</td>\n",
       "      <td>B03520P</td>\n",
       "      <td>...</td>\n",
       "      <td>12</td>\n",
       "      <td>2023-04-28 12:30:26</td>\n",
       "      <td>B04078P</td>\n",
       "      <td>Sbr. Masjid Pasmar Marunda</td>\n",
       "      <td>-6.115928</td>\n",
       "      <td>106.95189</td>\n",
       "      <td>64.0</td>\n",
       "      <td>2023-04-28 13:59:57</td>\n",
       "      <td>0.0</td>\n",
       "      <td>28</td>\n",
       "    </tr>\n",
       "    <tr>\n",
       "      <th>37885</th>\n",
       "      <td>KUXY021D6I25YN</td>\n",
       "      <td>30169751274025</td>\n",
       "      <td>bni</td>\n",
       "      <td>Prasetya Wasita</td>\n",
       "      <td>M</td>\n",
       "      <td>1986</td>\n",
       "      <td>3B</td>\n",
       "      <td>NaN</td>\n",
       "      <td>1.0</td>\n",
       "      <td>B04610P</td>\n",
       "      <td>...</td>\n",
       "      <td>2</td>\n",
       "      <td>2023-04-08 10:46:06</td>\n",
       "      <td>B00192P</td>\n",
       "      <td>BSI Cengkareng</td>\n",
       "      <td>-6.147973</td>\n",
       "      <td>106.72781</td>\n",
       "      <td>3.0</td>\n",
       "      <td>2023-04-08 13:06:42</td>\n",
       "      <td>0.0</td>\n",
       "      <td>37</td>\n",
       "    </tr>\n",
       "  </tbody>\n",
       "</table>\n",
       "<p>2062 rows × 23 columns</p>\n",
       "</div>"
      ],
      "text/plain": [
       "              transID         payCardID payCardBank  \\\n",
       "7      XTKE052E5E87LN  3587341902618993         dki   \n",
       "38     RLLZ887W3V14WZ  4947438345710982         dki   \n",
       "39     JJEK861K6E37KF  3539535695881465         dki   \n",
       "60     RHUT145C1U25ZY     4290559479079      online   \n",
       "61     TWAK265Z0M88QR   213155263532652      emoney   \n",
       "...               ...               ...         ...   \n",
       "37797  HBLN935K0C66OQ     4667337468542      online   \n",
       "37815  OSYS465Q5O68VD  3534140838249087         dki   \n",
       "37824  TMCQ904W0L70TY     4741860768238      online   \n",
       "37838  GTLM961T1U29JA  4204405669287580         dki   \n",
       "37885  KUXY021D6I25YN    30169751274025         bni   \n",
       "\n",
       "                         payCardName payCardSex  payCardBirthDate corridorID  \\\n",
       "7                    Darmanto Rajasa          F              1991        NaN   \n",
       "38                     Rahayu Rahayu          F              2006         5M   \n",
       "39            Dr. Zulfa Tamba, S.E.I          M              1986          2   \n",
       "60                      Lutfan Hakim          M              2011        T21   \n",
       "61                      Restu Waluyo          F              1984        12A   \n",
       "...                              ...        ...               ...        ...   \n",
       "37797      drg. Bala Yolanda, S.Farm          M              1984        NaN   \n",
       "37815                  Saka Pradipta          M              2009     JAK.56   \n",
       "37824  drg. Argono Nainggolan, S.Kom          F              1992        S21   \n",
       "37838              Saka Wijaya, S.H.          M              1995        NaN   \n",
       "37885                Prasetya Wasita          M              1986         3B   \n",
       "\n",
       "                                       corridorName  direction tapInStops  \\\n",
       "7                                               NaN        1.0    B03416P   \n",
       "38                                              NaN        1.0    B02994P   \n",
       "39                                              NaN        0.0     P00202   \n",
       "60                                              NaN        1.0    B00589P   \n",
       "61                                              NaN        0.0    B05324P   \n",
       "...                                             ...        ...        ...   \n",
       "37797  Rusun Marunda - Terminal Terpadu Pulo Gebang        1.0    B04607P   \n",
       "37815                                           NaN        1.0    B04394P   \n",
       "37824                                           NaN        1.0    B01094P   \n",
       "37838                                           NaN        1.0    B03520P   \n",
       "37885                                           NaN        1.0    B04610P   \n",
       "\n",
       "       ... stopStartSeq           tapInTime  tapOutStops  \\\n",
       "7      ...            2 2023-04-03 06:44:24      B00899P   \n",
       "38     ...           16 2023-04-03 05:29:43      B05707P   \n",
       "39     ...            9 2023-04-03 05:28:22       P00137   \n",
       "60     ...            3 2023-04-03 05:43:48      B02556P   \n",
       "61     ...            9 2023-04-03 06:13:03       P00138   \n",
       "...    ...          ...                 ...          ...   \n",
       "37797  ...           59 2023-04-29 19:18:55      B02223P   \n",
       "37815  ...           45 2023-04-15 18:26:35      B05498P   \n",
       "37824  ...           11 2023-04-07 09:25:03       P00185   \n",
       "37838  ...           12 2023-04-28 12:30:26      B04078P   \n",
       "37885  ...            2 2023-04-08 10:46:06      B00192P   \n",
       "\n",
       "                  tapOutStopsName tapOutStopsLat tapOutStopsLon stopEndSeq  \\\n",
       "7                      Jln. Baros      -6.311046      106.78400       12.0   \n",
       "38         Term. Kampung Melayu 2      -6.224516      106.86685       30.0   \n",
       "39                          Monas      -6.176248      106.82286       19.0   \n",
       "60                   Palem Semi 1      -6.218812      106.61807       14.0   \n",
       "61              Museum Fatahillah      -6.133930      106.81209       18.0   \n",
       "...                           ...            ...            ...        ...   \n",
       "37797            Marlindo Marunda      -6.121746      106.95715       61.0   \n",
       "37815                  St. Pesing      -6.161726      106.77127       52.0   \n",
       "37824              Pondok Indah 2      -6.267231      106.78365       13.0   \n",
       "37838  Sbr. Masjid Pasmar Marunda      -6.115928      106.95189       64.0   \n",
       "37885              BSI Cengkareng      -6.147973      106.72781        3.0   \n",
       "\n",
       "               tapOutTime  payAmount  Umur  \n",
       "7     2023-04-03 07:11:43        0.0    32  \n",
       "38    2023-04-03 05:58:35     3500.0    17  \n",
       "39    2023-04-03 06:02:36     3500.0    37  \n",
       "60    2023-04-03 06:09:12    20000.0    12  \n",
       "61    2023-04-03 06:50:23     3500.0    39  \n",
       "...                   ...        ...   ...  \n",
       "37797 2023-04-29 20:02:28        0.0    39  \n",
       "37815 2023-04-15 21:01:27        0.0    14  \n",
       "37824 2023-04-07 12:12:33     3500.0    31  \n",
       "37838 2023-04-28 13:59:57        0.0    28  \n",
       "37885 2023-04-08 13:06:42        0.0    37  \n",
       "\n",
       "[2062 rows x 23 columns]"
      ]
     },
     "execution_count": 6,
     "metadata": {},
     "output_type": "execute_result"
    }
   ],
   "source": [
    "tj[(tj['corridorID'].isna()) | (tj['corridorName'].isna())]"
   ]
  },
  {
   "cell_type": "markdown",
   "metadata": {},
   "source": [
    "# Data Understanding"
   ]
  },
  {
   "cell_type": "markdown",
   "metadata": {},
   "source": [
    "Sebelum masuk ke dalam analisis, penting untuk memahami lebih dalam dataset yang kita miliki dalam tahap pemahaman data. Dengan melakukan proses ini, kita dapat mengidentifikasi anomali-anomali yang mungkin ada dalam dataset dan perlu ditangani pada tahap pembersihan data. Setiap tindakan untuk menangani anomali akan disertai dengan justifikasi, baik berdasarkan pengetahuan domain maupun statistik.\n",
    "\n",
    "Pertama-tama, mari kita tinjau informasi mengenai usia dalam dataset TransJakarta."
   ]
  },
  {
   "cell_type": "markdown",
   "metadata": {},
   "source": [
    "Dataset ini berisi informasi terkait perjalanan penumpang, acces card, fasilitas halte dengan sebaran lainnya, Ada 14 kolom di dalam dataset Transjakarta, yaitu:  \n",
    "\n",
    "transID: ID transaksi unik untuk setiap transaksi.\n",
    "\n",
    "payCardID: Identifikasi utama pelanggan yang digunakan sebagai tiket masuk dan keluar.\n",
    "\n",
    "payCardBank: Nama penerbit kartu bank yang terkait dengan kartu pembayaran pelanggan.\n",
    "\n",
    "payCardName: Nama pelanggan yang tertanam dalam kartu.\n",
    "\n",
    "payCardSex: Jenis kelamin pelanggan yang tertanam dalam kartu.\n",
    "\n",
    "payCardBirthDate: Tahun kelahiran pelanggan.\n",
    "\n",
    "corridorID: ID koridor atau ID rute yang digunakan sebagai kunci untuk pengelompokan rute.\n",
    "\n",
    "corridorName: Nama koridor atau nama rute yang mencakup informasi tentang awal dan akhir setiap rute.\n",
    "\n",
    "direction: Nilai 0 untuk pergi (Go) dan 1 untuk kembali (Back), menunjukkan arah perjalanan rute.\n",
    "\n",
    "tapInStops: ID titik masuk (entrance) yang digunakan untuk mengidentifikasi nama-nama titik masuk.\n",
    "\n",
    "tapInStopsName: Nama titik masuk (entrance) di mana pelanggan melakukan tap in.\n",
    "\n",
    "tapInStopsLat: Garis lintang (latitude) dari titik masuk.\n",
    "\n",
    "tapInStopsLon: Garis bujur (longitude) dari titik masuk.\n",
    "\n",
    "stopStartSeq: Urutan dari titik-titik perhentian, berkaitan dengan arah perjalanan.\n",
    "\n",
    "tapInTime: Waktu tap in, termasuk tanggal dan waktu.\n",
    "\n",
    "tapOutStops: ID titik keluar (exit) yang digunakan untuk mengidentifikasi nama-nama titik keluar.\n",
    "\n",
    "tapOutStopsName: Nama titik keluar (exit) di mana pelanggan melakukan tap out.\n",
    "\n",
    "tapOutStopsLat: Garis lintang (latitude) dari titik keluar.\n",
    "\n",
    "tapOutStopsLon: Garis bujur (longitude) dari titik keluar.\n",
    "\n",
    "stopEndSeq: Urutan dari titik-titik perhentian, berkaitan dengan arah perjalanan.\n",
    "\n",
    "tapOutTime: Waktu tap out, termasuk tanggal dan waktu.\n",
    "\n",
    "payAmount: Jumlah pembayaran yang dilakukan oleh pelanggan, yang bisa jadi beberapa transaksi gratis dan beberapa yang berbayar."
   ]
  },
  {
   "cell_type": "markdown",
   "metadata": {},
   "source": [
    "# Duplicate\n",
    "Tidak terdapat data yang duplikat pada data set ini "
   ]
  },
  {
   "cell_type": "code",
   "execution_count": 7,
   "metadata": {},
   "outputs": [
    {
     "data": {
      "text/html": [
       "<div>\n",
       "<style scoped>\n",
       "    .dataframe tbody tr th:only-of-type {\n",
       "        vertical-align: middle;\n",
       "    }\n",
       "\n",
       "    .dataframe tbody tr th {\n",
       "        vertical-align: top;\n",
       "    }\n",
       "\n",
       "    .dataframe thead th {\n",
       "        text-align: right;\n",
       "    }\n",
       "</style>\n",
       "<table border=\"1\" class=\"dataframe\">\n",
       "  <thead>\n",
       "    <tr style=\"text-align: right;\">\n",
       "      <th></th>\n",
       "      <th>transID</th>\n",
       "      <th>payCardID</th>\n",
       "      <th>payCardBank</th>\n",
       "      <th>payCardName</th>\n",
       "      <th>payCardSex</th>\n",
       "      <th>payCardBirthDate</th>\n",
       "      <th>corridorID</th>\n",
       "      <th>corridorName</th>\n",
       "      <th>direction</th>\n",
       "      <th>tapInStops</th>\n",
       "      <th>...</th>\n",
       "      <th>stopStartSeq</th>\n",
       "      <th>tapInTime</th>\n",
       "      <th>tapOutStops</th>\n",
       "      <th>tapOutStopsName</th>\n",
       "      <th>tapOutStopsLat</th>\n",
       "      <th>tapOutStopsLon</th>\n",
       "      <th>stopEndSeq</th>\n",
       "      <th>tapOutTime</th>\n",
       "      <th>payAmount</th>\n",
       "      <th>Umur</th>\n",
       "    </tr>\n",
       "  </thead>\n",
       "  <tbody>\n",
       "  </tbody>\n",
       "</table>\n",
       "<p>0 rows × 23 columns</p>\n",
       "</div>"
      ],
      "text/plain": [
       "Empty DataFrame\n",
       "Columns: [transID, payCardID, payCardBank, payCardName, payCardSex, payCardBirthDate, corridorID, corridorName, direction, tapInStops, tapInStopsName, tapInStopsLat, tapInStopsLon, stopStartSeq, tapInTime, tapOutStops, tapOutStopsName, tapOutStopsLat, tapOutStopsLon, stopEndSeq, tapOutTime, payAmount, Umur]\n",
       "Index: []\n",
       "\n",
       "[0 rows x 23 columns]"
      ]
     },
     "execution_count": 7,
     "metadata": {},
     "output_type": "execute_result"
    }
   ],
   "source": [
    "tj[tj.duplicated()]"
   ]
  },
  {
   "cell_type": "code",
   "execution_count": 8,
   "metadata": {},
   "outputs": [
    {
     "data": {
      "text/plain": [
       "transID                0\n",
       "payCardID              0\n",
       "payCardBank            0\n",
       "payCardName            0\n",
       "payCardSex             0\n",
       "payCardBirthDate       0\n",
       "corridorID          1257\n",
       "corridorName        1930\n",
       "direction              0\n",
       "tapInStops          1213\n",
       "tapInStopsName         0\n",
       "tapInStopsLat          0\n",
       "tapInStopsLon          0\n",
       "stopStartSeq           0\n",
       "tapInTime              0\n",
       "tapOutStops         2289\n",
       "tapOutStopsName     1344\n",
       "tapOutStopsLat      1344\n",
       "tapOutStopsLon      1344\n",
       "stopEndSeq          1344\n",
       "tapOutTime          1344\n",
       "payAmount              0\n",
       "Umur                   0\n",
       "dtype: int64"
      ]
     },
     "execution_count": 8,
     "metadata": {},
     "output_type": "execute_result"
    }
   ],
   "source": [
    "tj['payAmount'].fillna(0,inplace=True)\n",
    "tj.isna().sum()"
   ]
  },
  {
   "cell_type": "markdown",
   "metadata": {},
   "source": [
    "# Missing Value (%)"
   ]
  },
  {
   "cell_type": "markdown",
   "metadata": {},
   "source": [
    "Persentase missing value tiap kolom"
   ]
  },
  {
   "cell_type": "code",
   "execution_count": 9,
   "metadata": {},
   "outputs": [
    {
     "data": {
      "text/plain": [
       "transID             0.000000\n",
       "payCardID           0.000000\n",
       "payCardBank         0.000000\n",
       "payCardName         0.000000\n",
       "payCardSex          0.000000\n",
       "payCardBirthDate    0.000000\n",
       "corridorID          3.316623\n",
       "corridorName        5.092348\n",
       "direction           0.000000\n",
       "tapInStops          3.200528\n",
       "tapInStopsName      0.000000\n",
       "tapInStopsLat       0.000000\n",
       "tapInStopsLon       0.000000\n",
       "stopStartSeq        0.000000\n",
       "tapInTime           0.000000\n",
       "tapOutStops         6.039578\n",
       "tapOutStopsName     3.546174\n",
       "tapOutStopsLat      3.546174\n",
       "tapOutStopsLon      3.546174\n",
       "stopEndSeq          3.546174\n",
       "tapOutTime          3.546174\n",
       "payAmount           0.000000\n",
       "Umur                0.000000\n",
       "dtype: float64"
      ]
     },
     "execution_count": 9,
     "metadata": {},
     "output_type": "execute_result"
    }
   ],
   "source": [
    "tj.isna().sum()/tj.shape[0]*100"
   ]
  },
  {
   "cell_type": "markdown",
   "metadata": {},
   "source": [
    "Mengganti tipe data dari object ke date time"
   ]
  },
  {
   "cell_type": "code",
   "execution_count": 10,
   "metadata": {},
   "outputs": [],
   "source": [
    "tj['Umur'] = 2023-tj['payCardBirthDate']\n",
    "tj['tapInTime'] = pd.to_datetime(tj['tapInTime'])\n",
    "tj['tapOutTime'] = pd.to_datetime(tj['tapOutTime'])"
   ]
  },
  {
   "cell_type": "code",
   "execution_count": 11,
   "metadata": {},
   "outputs": [
    {
     "data": {
      "text/plain": [
       "0         Senin\n",
       "1         Senin\n",
       "2         Senin\n",
       "3         Senin\n",
       "4         Senin\n",
       "          ...  \n",
       "37895     Jumat\n",
       "37896    Selasa\n",
       "37897    Selasa\n",
       "37898     Sabtu\n",
       "37899      Rabu\n",
       "Name: DayIn, Length: 37900, dtype: object"
      ]
     },
     "execution_count": 11,
     "metadata": {},
     "output_type": "execute_result"
    }
   ],
   "source": [
    "tj['DayInInt'] = tj['tapInTime'].dt.day_of_week\n",
    "replace_dict = {0:'Senin',1: 'Selasa', 2: 'Rabu',3:'Kamis',4:'Jumat',5:'Sabtu',6:'Minggu'}\n",
    "tj['DayIn'] = tj['DayInInt'].replace(replace_dict)\n",
    "tj['DayIn']"
   ]
  },
  {
   "cell_type": "code",
   "execution_count": 12,
   "metadata": {},
   "outputs": [
    {
     "data": {
      "text/plain": [
       "0         Senin\n",
       "1         Senin\n",
       "2         Senin\n",
       "3         Senin\n",
       "4         Senin\n",
       "          ...  \n",
       "37895     Jumat\n",
       "37896    Selasa\n",
       "37897    Selasa\n",
       "37898     Sabtu\n",
       "37899      Rabu\n",
       "Name: DayOut, Length: 37900, dtype: object"
      ]
     },
     "execution_count": 12,
     "metadata": {},
     "output_type": "execute_result"
    }
   ],
   "source": [
    "tj['DayOutInt'] = tj['tapOutTime'].dt.day_of_week\n",
    "replace_dict = {0:'Senin',1: 'Selasa', 2: 'Rabu',3:'Kamis',4:'Jumat',5:'Sabtu',6:'Minggu'}\n",
    "tj['DayOut'] = tj['DayOutInt'].replace(replace_dict)\n",
    "tj['DayOut']"
   ]
  },
  {
   "cell_type": "code",
   "execution_count": 13,
   "metadata": {},
   "outputs": [
    {
     "data": {
      "text/plain": [
       "transID                0\n",
       "payCardID              0\n",
       "payCardBank            0\n",
       "payCardName            0\n",
       "payCardSex             0\n",
       "payCardBirthDate       0\n",
       "corridorID          1257\n",
       "corridorName        1930\n",
       "direction              0\n",
       "tapInStops          1213\n",
       "tapInStopsName         0\n",
       "tapInStopsLat          0\n",
       "tapInStopsLon          0\n",
       "stopStartSeq           0\n",
       "tapInTime              0\n",
       "tapOutStops         2289\n",
       "tapOutStopsName     1344\n",
       "tapOutStopsLat      1344\n",
       "tapOutStopsLon      1344\n",
       "stopEndSeq          1344\n",
       "tapOutTime          1344\n",
       "payAmount              0\n",
       "Umur                   0\n",
       "DayInInt               0\n",
       "DayIn                  0\n",
       "DayOutInt           1344\n",
       "DayOut              1344\n",
       "dtype: int64"
      ]
     },
     "execution_count": 13,
     "metadata": {},
     "output_type": "execute_result"
    }
   ],
   "source": [
    "tj.isna().sum()"
   ]
  },
  {
   "cell_type": "markdown",
   "metadata": {},
   "source": [
    "1. Analisa awal untuk melihat apakah target fasilitas transjakarta terhadap lansia sudah tepat sasaran"
   ]
  },
  {
   "cell_type": "markdown",
   "metadata": {},
   "source": [
    "Sebaran Umur"
   ]
  },
  {
   "cell_type": "markdown",
   "metadata": {},
   "source": [
    "Menampilkan total pelanggan yang di kelompokkan berdasarkan umur"
   ]
  },
  {
   "cell_type": "code",
   "execution_count": 14,
   "metadata": {},
   "outputs": [
    {
     "name": "stdout",
     "output_type": "stream",
     "text": [
      "GrupUmur\n",
      "0-19      7964\n",
      "20-39    20087\n",
      "40-59     9076\n",
      "60-79      773\n",
      "Name: Umur, dtype: int64\n"
     ]
    },
    {
     "data": {
      "text/plain": [
       "0         0-19\n",
       "1        20-39\n",
       "2        20-39\n",
       "3        40-59\n",
       "4        40-59\n",
       "         ...  \n",
       "37895     0-19\n",
       "37896    40-59\n",
       "37897    40-59\n",
       "37898    40-59\n",
       "37899    20-39\n",
       "Name: GrupUmur, Length: 37900, dtype: category\n",
       "Categories (4, object): ['0-19' < '20-39' < '40-59' < '60-79']"
      ]
     },
     "execution_count": 14,
     "metadata": {},
     "output_type": "execute_result"
    }
   ],
   "source": [
    "\n",
    "age_bins = range(0, 81, 20)\n",
    "tj['GrupUmur'] = pd.cut(tj['Umur'], bins=age_bins, labels=[f'{i}-{i+19}' for i in age_bins[:-1]])\n",
    "result = tj.groupby(['GrupUmur'])['Umur'].count()\n",
    "print(result)\n",
    "tj['GrupUmur']"
   ]
  },
  {
   "cell_type": "markdown",
   "metadata": {},
   "source": [
    "menghasilkan jumlah frekuensi setiap nilai unik dari 'corridorName' pada baris-baris di mana 'GrupUmur' adalah '0-19'. Ini memberikan informasi tentang seberapa sering koridor tertentu digunakan oleh individu dengan rentang usia 0-19 dalam DataFrame tj."
   ]
  },
  {
   "cell_type": "code",
   "execution_count": 15,
   "metadata": {},
   "outputs": [
    {
     "data": {
      "text/plain": [
       "corridorName\n",
       "Cibubur - Balai Kota                 153\n",
       "Pinang Ranti - Pluit                 144\n",
       "Pulo Gadung - Monas                  132\n",
       "Kampung Rambutan - Pondok Gede       127\n",
       "Puri Beta - Pancoran Barat           120\n",
       "                                    ... \n",
       "Kalideres - Puri Kembangan             1\n",
       "Ragunan - MH Thamrin                   1\n",
       "Senen - Tanah Abang                    1\n",
       "Ragunan - MH Thamrin via Kuningan      1\n",
       "Term. Pulo Gadung - Lampiri            1\n",
       "Name: count, Length: 209, dtype: int64"
      ]
     },
     "execution_count": 15,
     "metadata": {},
     "output_type": "execute_result"
    }
   ],
   "source": [
    "tj[tj['GrupUmur']=='0-19']['corridorName'].value_counts()"
   ]
  },
  {
   "cell_type": "markdown",
   "metadata": {},
   "source": [
    "Membuat Variable baru untuk pelanggan lansia/diatas 60 tahun"
   ]
  },
  {
   "cell_type": "code",
   "execution_count": 16,
   "metadata": {},
   "outputs": [],
   "source": [
    "lansia = tj[tj['Umur']>=60]"
   ]
  },
  {
   "cell_type": "markdown",
   "metadata": {},
   "source": [
    "Membuata Variable dari lansia yang koridornya tidak NAN"
   ]
  },
  {
   "cell_type": "code",
   "execution_count": 17,
   "metadata": {},
   "outputs": [
    {
     "data": {
      "text/plain": [
       "751"
      ]
     },
     "execution_count": 17,
     "metadata": {},
     "output_type": "execute_result"
    }
   ],
   "source": [
    "corridorlansia = lansia[lansia['corridorID'].notna()]\n",
    "len(corridorlansia)"
   ]
  },
  {
   "cell_type": "markdown",
   "metadata": {},
   "source": [
    "Membuat Variable baru jaklingko"
   ]
  },
  {
   "cell_type": "code",
   "execution_count": 18,
   "metadata": {},
   "outputs": [
    {
     "data": {
      "text/plain": [
       "187"
      ]
     },
     "execution_count": 18,
     "metadata": {},
     "output_type": "execute_result"
    }
   ],
   "source": [
    "jaklansia = corridorlansia[corridorlansia['corridorID'].str.contains('JAK')]\n",
    "len(jaklansia)"
   ]
  },
  {
   "cell_type": "markdown",
   "metadata": {},
   "source": [
    "Membuat variable baru transjakarta"
   ]
  },
  {
   "cell_type": "code",
   "execution_count": 19,
   "metadata": {},
   "outputs": [
    {
     "data": {
      "text/plain": [
       "564"
      ]
     },
     "execution_count": 19,
     "metadata": {},
     "output_type": "execute_result"
    }
   ],
   "source": [
    "haltelansia = corridorlansia[~corridorlansia['corridorID'].str.contains('JAK')]\n",
    "len(haltelansia)"
   ]
  },
  {
   "cell_type": "markdown",
   "metadata": {},
   "source": [
    "Melihat usia pengguna TJ"
   ]
  },
  {
   "cell_type": "code",
   "execution_count": 20,
   "metadata": {},
   "outputs": [
    {
     "data": {
      "text/plain": [
       "array([15, 26, 31, 45, 41, 30, 49, 32, 19, 39, 35, 21, 48, 12, 20, 42, 14,\n",
       "       40, 24, 16, 44, 63, 28, 22, 33, 55, 38, 13, 34, 17, 37, 58, 18, 57,\n",
       "       29, 51, 54, 53, 23, 70, 46, 11, 36, 27, 52, 67, 43, 25, 50, 77, 47,\n",
       "       64, 56, 72, 66, 75, 62, 59, 60, 61, 74, 69, 76, 71, 65, 68, 73],\n",
       "      dtype=int64)"
      ]
     },
     "execution_count": 20,
     "metadata": {},
     "output_type": "execute_result"
    }
   ],
   "source": [
    "tj['Umur'].unique()"
   ]
  },
  {
   "cell_type": "markdown",
   "metadata": {},
   "source": [
    "1. mengambil hari dari varible tap in time \n",
    "2. mengubah type data "
   ]
  },
  {
   "cell_type": "code",
   "execution_count": 21,
   "metadata": {},
   "outputs": [
    {
     "data": {
      "text/plain": [
       "0         Senin\n",
       "1         Senin\n",
       "2         Senin\n",
       "3         Senin\n",
       "4         Senin\n",
       "          ...  \n",
       "37895     Jumat\n",
       "37896    Selasa\n",
       "37897    Selasa\n",
       "37898     Sabtu\n",
       "37899      Rabu\n",
       "Name: DayIn, Length: 37900, dtype: object"
      ]
     },
     "execution_count": 21,
     "metadata": {},
     "output_type": "execute_result"
    }
   ],
   "source": [
    "tj['DayInInt'] = tj['tapInTime'].dt.day_of_week\n",
    "replace_dict = {0:'Senin',1: 'Selasa', 2: 'Rabu',3:'Kamis',4:'Jumat',5:'Sabtu',6:'Minggu'}\n",
    "tj['DayIn'] = tj['DayInInt'].replace(replace_dict)\n",
    "tj['DayIn']"
   ]
  },
  {
   "cell_type": "code",
   "execution_count": 22,
   "metadata": {},
   "outputs": [
    {
     "data": {
      "text/plain": [
       "0         Senin\n",
       "1         Senin\n",
       "2         Senin\n",
       "3         Senin\n",
       "4         Senin\n",
       "          ...  \n",
       "37895     Jumat\n",
       "37896    Selasa\n",
       "37897    Selasa\n",
       "37898     Sabtu\n",
       "37899      Rabu\n",
       "Name: DayOut, Length: 37900, dtype: object"
      ]
     },
     "execution_count": 22,
     "metadata": {},
     "output_type": "execute_result"
    }
   ],
   "source": [
    "tj['DayOutInt'] = tj['tapOutTime'].dt.day_of_week\n",
    "replace_dict = {0:'Senin',1: 'Selasa', 2: 'Rabu',3:'Kamis',4:'Jumat',5:'Sabtu',6:'Minggu'}\n",
    "tj['DayOut'] = tj['DayOutInt'].replace(replace_dict)\n",
    "tj['DayOut']"
   ]
  },
  {
   "cell_type": "code",
   "execution_count": 23,
   "metadata": {},
   "outputs": [
    {
     "data": {
      "text/plain": [
       "transID                0\n",
       "payCardID              0\n",
       "payCardBank            0\n",
       "payCardName            0\n",
       "payCardSex             0\n",
       "payCardBirthDate       0\n",
       "corridorID          1257\n",
       "corridorName        1930\n",
       "direction              0\n",
       "tapInStops          1213\n",
       "tapInStopsName         0\n",
       "tapInStopsLat          0\n",
       "tapInStopsLon          0\n",
       "stopStartSeq           0\n",
       "tapInTime              0\n",
       "tapOutStops         2289\n",
       "tapOutStopsName     1344\n",
       "tapOutStopsLat      1344\n",
       "tapOutStopsLon      1344\n",
       "stopEndSeq          1344\n",
       "tapOutTime          1344\n",
       "payAmount              0\n",
       "Umur                   0\n",
       "DayInInt               0\n",
       "DayIn                  0\n",
       "DayOutInt           1344\n",
       "DayOut              1344\n",
       "GrupUmur               0\n",
       "dtype: int64"
      ]
     },
     "execution_count": 23,
     "metadata": {},
     "output_type": "execute_result"
    }
   ],
   "source": [
    "tj.isna().sum()"
   ]
  },
  {
   "cell_type": "markdown",
   "metadata": {},
   "source": [
    "2. Halte Dengan 'Tap In' (Lansia)"
   ]
  },
  {
   "cell_type": "markdown",
   "metadata": {},
   "source": [
    "Kodingan dibawah menggambarkan langkah-langkah untuk menghitung jumlah penumpang lansia yang melakukan tap in di setiap halte, kemudian menampilkan lima halte dengan jumlah penumpang lansia terbanyak."
   ]
  },
  {
   "cell_type": "code",
   "execution_count": 24,
   "metadata": {},
   "outputs": [
    {
     "data": {
      "text/plain": [
       "tapInStopsName\n",
       "MH Thamrin                   21\n",
       "Masjid Agung                 21\n",
       "Polda Metro Jaya             20\n",
       "Sekolah Sumbangsih           20\n",
       "Pancoran Barat Arah Timur    20\n",
       "Name: count, dtype: int64"
      ]
     },
     "execution_count": 24,
     "metadata": {},
     "output_type": "execute_result"
    }
   ],
   "source": [
    "tapinlansia = haltelansia['tapInStopsName'].value_counts().head()\n",
    "tapinlansia"
   ]
  },
  {
   "cell_type": "markdown",
   "metadata": {},
   "source": [
    "kita dapat dengan jelas melihat dan memahami lima halte dengan jumlah penumpang lansia terbanyak dalam bentuk grafik bar horizontal."
   ]
  },
  {
   "cell_type": "code",
   "execution_count": 25,
   "metadata": {},
   "outputs": [
    {
     "data": {
      "image/png": "[encoded data removed]",
      "text/plain": [
       "<Figure size 1000x600 with 1 Axes>"
      ]
     },
     "metadata": {},
     "output_type": "display_data"
    }
   ],
   "source": [
    "tapin_lansia = tj.groupby('tapInStopsName')['Umur'].count()\n",
    "\n",
    "top_5_halte = tapin_lansia.sort_values(ascending=False).head(5)\n",
    "\n",
    "plt.figure(figsize=(10, 6))\n",
    "bar_plot = plt.bar(top_5_halte.index, top_5_halte.values, color='blue')\n",
    "\n",
    "plt.ylabel('Total Penumpang Lansia')\n",
    "plt.xlabel('Halte')\n",
    "plt.title('Top 5 Halte dengan Penumpang Lansia Terbanyak')\n",
    "\n",
    "for index, value in enumerate(top_5_halte.values):\n",
    "    plt.text(index, value, str(value), ha='center', va='bottom')\n",
    "\n",
    "plt.yticks(range(0, max(top_5_halte.values) + 1, 10))\n",
    "\n",
    "plt.show()\n"
   ]
  },
  {
   "cell_type": "markdown",
   "metadata": {},
   "source": [
    "Kodingan di bawah mencari jumlah penumpang lansia yang melakukan tap out di setiap halte."
   ]
  },
  {
   "cell_type": "code",
   "execution_count": 26,
   "metadata": {},
   "outputs": [
    {
     "data": {
      "text/plain": [
       "tapOutStopsName\n",
       "Cibubur Junction             20\n",
       "Masjid Agung                 20\n",
       "BKN                          20\n",
       "Kampung Rambutan             20\n",
       "Tirtayasa                    20\n",
       "Karet Sudirman               19\n",
       "BNN LRT                      19\n",
       "Ampera 4                     19\n",
       "Masjid Jami Al Makmur 2      19\n",
       "Bank Indonesia Arah Utara    19\n",
       "Name: count, dtype: int64"
      ]
     },
     "execution_count": 26,
     "metadata": {},
     "output_type": "execute_result"
    }
   ],
   "source": [
    "tapoutlansia = haltelansia['tapOutStopsName'].value_counts().head(10)\n",
    "tapoutlansia"
   ]
  },
  {
   "cell_type": "markdown",
   "metadata": {},
   "source": [
    "Kode ini bertujuan untuk melihat diagram batang yang memberikan informasi visual tentang jumlah total penumpang lansia pada setiap halte selama transaksi tap-out, dengan label yang menyatakan nilai sebenarnya di atas setiap batang."
   ]
  },
  {
   "cell_type": "code",
   "execution_count": 27,
   "metadata": {},
   "outputs": [
    {
     "data": {
      "image/png": "[encoded data removed]",
      "text/plain": [
       "<Figure size 640x480 with 1 Axes>"
      ]
     },
     "metadata": {},
     "output_type": "display_data"
    }
   ],
   "source": [
    "plt.bar(tapoutlansia.index, tapoutlansia.values, color='blue')\n",
    "\n",
    "plt.ylabel('Total Penumpang Lansia')\n",
    "plt.xlabel('Halte')\n",
    "plt.title('Halte Dimana Lansia Banyak Melakukan Tap Out')\n",
    "\n",
    "for index, value in enumerate(tapoutlansia.values):\n",
    "    plt.text(index, value, str(value), ha='center', va='bottom')\n",
    "\n",
    "plt.xticks(rotation=45, ha='right')\n",
    "\n",
    "plt.show()"
   ]
  },
  {
   "cell_type": "markdown",
   "metadata": {},
   "source": [
    "Kode dibawah membuat diagram batang untuk memvisualisasikan 10 halte teratas dengan jumlah penumpang lansia tertinggi selama transaksi tap-out. Batang mewakili jumlah total penumpang lansia di setiap halte, dan nilai yang sesuai ditampilkan di atas batang."
   ]
  },
  {
   "cell_type": "code",
   "execution_count": 28,
   "metadata": {},
   "outputs": [
    {
     "data": {
      "image/png": "[encoded data removed]",
      "text/plain": [
       "<Figure size 640x480 with 1 Axes>"
      ]
     },
     "metadata": {},
     "output_type": "display_data"
    }
   ],
   "source": [
    "top_10_halte = tapoutlansia.sort_values(ascending=False).head(10)\n",
    "\n",
    "\n",
    "plt.bar(top_10_halte.index, top_10_halte.values, color='blue')\n",
    "\n",
    "plt.xlabel('Halte')\n",
    "plt.ylabel('Total Penumpang Lansia')\n",
    "plt.title('Top 10 Halte dengan Penumpang Lansia Terbanyak (Tap Out)')\n",
    "\n",
    "for index, value in enumerate(top_10_halte.values):\n",
    "    plt.text(index, value, str(value), ha='center', va='bottom')\n",
    "\n",
    "plt.xticks(rotation=45, ha='right')\n",
    "\n",
    "plt.show()\n"
   ]
  },
  {
   "cell_type": "code",
   "execution_count": 29,
   "metadata": {},
   "outputs": [
    {
     "data": {
      "text/plain": [
       "corridorName\n",
       "Ragunan - Gelora Bung Karno     74\n",
       "Blok M - Kota                   41\n",
       "PGC 2 - Grogol 2                40\n",
       "Kebayoran Lama - Tanah Abang    38\n",
       "Cibubur - BKN                   38\n",
       "Name: count, dtype: int64"
      ]
     },
     "execution_count": 29,
     "metadata": {},
     "output_type": "execute_result"
    }
   ],
   "source": [
    "jalurCorridorlansia = haltelansia['corridorName'].value_counts().head()\n",
    "jalurCorridorlansia"
   ]
  },
  {
   "cell_type": "code",
   "execution_count": 30,
   "metadata": {},
   "outputs": [
    {
     "data": {
      "image/png": "[encoded data removed]",
      "text/plain": [
       "<Figure size 640x480 with 1 Axes>"
      ]
     },
     "metadata": {},
     "output_type": "display_data"
    }
   ],
   "source": [
    "plt.bar(jalurCorridorlansia.index, jalurCorridorlansia.values, color='blue')\n",
    "\n",
    "plt.ylabel('Total Penumpang Lansia')\n",
    "plt.xlabel('Corridor')\n",
    "plt.title('Corridor Dimana Lansia Banyak Melakukan Tap In')\n",
    "\n",
    "for index, value in enumerate(jalurCorridorlansia.values):\n",
    "    plt.text(index, value, str(value), ha='center', va='bottom')\n",
    "\n",
    "plt.xticks(rotation=45, ha='right')\n",
    "\n",
    "plt.show()\n"
   ]
  },
  {
   "cell_type": "markdown",
   "metadata": {},
   "source": [
    "3. Hari dimana lansia banyak menggunakan fasilitas transjakarta"
   ]
  },
  {
   "cell_type": "code",
   "execution_count": 31,
   "metadata": {},
   "outputs": [
    {
     "data": {
      "image/png": "[encoded data removed]",
      "text/plain": [
       "<Figure size 640x480 with 1 Axes>"
      ]
     },
     "metadata": {},
     "output_type": "display_data"
    }
   ],
   "source": [
    "harilansia = haltelansia['DayInInt'].value_counts()\n",
    "harilansia = harilansia.sort_index()\n",
    "for index, value in zip(harilansia.index, harilansia):\n",
    "    plt.text(index, value + 1, value, ha='center')\n",
    "plt.plot(['Senin','Selasa','Rabu','Kamis','Jumat','Sabtu','Minggu'],harilansia.values,marker='o')\n",
    "plt.show()"
   ]
  },
  {
   "cell_type": "markdown",
   "metadata": {},
   "source": [
    "3. Fasilitas dengan tap out dengan parameter dari coridor"
   ]
  },
  {
   "cell_type": "code",
   "execution_count": 32,
   "metadata": {},
   "outputs": [
    {
     "data": {
      "text/html": [
       "<div>\n",
       "<style scoped>\n",
       "    .dataframe tbody tr th:only-of-type {\n",
       "        vertical-align: middle;\n",
       "    }\n",
       "\n",
       "    .dataframe tbody tr th {\n",
       "        vertical-align: top;\n",
       "    }\n",
       "\n",
       "    .dataframe thead th {\n",
       "        text-align: right;\n",
       "    }\n",
       "</style>\n",
       "<table border=\"1\" class=\"dataframe\">\n",
       "  <thead>\n",
       "    <tr style=\"text-align: right;\">\n",
       "      <th></th>\n",
       "      <th>transID</th>\n",
       "      <th>payCardID</th>\n",
       "      <th>payCardBank</th>\n",
       "      <th>payCardName</th>\n",
       "      <th>payCardSex</th>\n",
       "      <th>payCardBirthDate</th>\n",
       "      <th>corridorID</th>\n",
       "      <th>corridorName</th>\n",
       "      <th>direction</th>\n",
       "      <th>tapInStops</th>\n",
       "      <th>...</th>\n",
       "      <th>tapOutStopsLon</th>\n",
       "      <th>stopEndSeq</th>\n",
       "      <th>tapOutTime</th>\n",
       "      <th>payAmount</th>\n",
       "      <th>Umur</th>\n",
       "      <th>DayInInt</th>\n",
       "      <th>DayIn</th>\n",
       "      <th>DayOutInt</th>\n",
       "      <th>DayOut</th>\n",
       "      <th>GrupUmur</th>\n",
       "    </tr>\n",
       "  </thead>\n",
       "  <tbody>\n",
       "    <tr>\n",
       "      <th>6</th>\n",
       "      <td>HEMW326B9N91TV</td>\n",
       "      <td>213155822653833</td>\n",
       "      <td>emoney</td>\n",
       "      <td>R. Devi Hariyah, S.T.</td>\n",
       "      <td>M</td>\n",
       "      <td>1974</td>\n",
       "      <td>JAK.18</td>\n",
       "      <td>Kalibata - Kuningan</td>\n",
       "      <td>0.0</td>\n",
       "      <td>B00243P</td>\n",
       "      <td>...</td>\n",
       "      <td>NaN</td>\n",
       "      <td>NaN</td>\n",
       "      <td>NaT</td>\n",
       "      <td>0.0</td>\n",
       "      <td>49</td>\n",
       "      <td>0</td>\n",
       "      <td>Senin</td>\n",
       "      <td>NaN</td>\n",
       "      <td>NaN</td>\n",
       "      <td>40-59</td>\n",
       "    </tr>\n",
       "    <tr>\n",
       "      <th>30</th>\n",
       "      <td>TCKQ601Q5O01BC</td>\n",
       "      <td>3589380857722689</td>\n",
       "      <td>dki</td>\n",
       "      <td>drg. Lukman Hidayanto</td>\n",
       "      <td>M</td>\n",
       "      <td>1995</td>\n",
       "      <td>JAK.46</td>\n",
       "      <td>Pasar Minggu - Jagakarsa</td>\n",
       "      <td>1.0</td>\n",
       "      <td>B00001P</td>\n",
       "      <td>...</td>\n",
       "      <td>NaN</td>\n",
       "      <td>NaN</td>\n",
       "      <td>NaT</td>\n",
       "      <td>0.0</td>\n",
       "      <td>28</td>\n",
       "      <td>0</td>\n",
       "      <td>Senin</td>\n",
       "      <td>NaN</td>\n",
       "      <td>NaN</td>\n",
       "      <td>20-39</td>\n",
       "    </tr>\n",
       "    <tr>\n",
       "      <th>70</th>\n",
       "      <td>OTGH855B8A29BP</td>\n",
       "      <td>3549158005951908</td>\n",
       "      <td>dki</td>\n",
       "      <td>Mustofa Wijayanti, M.Farm</td>\n",
       "      <td>M</td>\n",
       "      <td>1981</td>\n",
       "      <td>1T</td>\n",
       "      <td>Cibubur - Balai Kota</td>\n",
       "      <td>0.0</td>\n",
       "      <td>B02408P</td>\n",
       "      <td>...</td>\n",
       "      <td>NaN</td>\n",
       "      <td>NaN</td>\n",
       "      <td>NaT</td>\n",
       "      <td>20000.0</td>\n",
       "      <td>42</td>\n",
       "      <td>0</td>\n",
       "      <td>Senin</td>\n",
       "      <td>NaN</td>\n",
       "      <td>NaN</td>\n",
       "      <td>40-59</td>\n",
       "    </tr>\n",
       "    <tr>\n",
       "      <th>89</th>\n",
       "      <td>QMHC825R0K38KM</td>\n",
       "      <td>3537543297101185</td>\n",
       "      <td>dki</td>\n",
       "      <td>Samsul Ramadan</td>\n",
       "      <td>M</td>\n",
       "      <td>1966</td>\n",
       "      <td>M11</td>\n",
       "      <td>NaN</td>\n",
       "      <td>1.0</td>\n",
       "      <td>P00158</td>\n",
       "      <td>...</td>\n",
       "      <td>106.94537</td>\n",
       "      <td>7.0</td>\n",
       "      <td>2023-04-03 06:52:14</td>\n",
       "      <td>3500.0</td>\n",
       "      <td>57</td>\n",
       "      <td>0</td>\n",
       "      <td>Senin</td>\n",
       "      <td>0.0</td>\n",
       "      <td>Senin</td>\n",
       "      <td>40-59</td>\n",
       "    </tr>\n",
       "    <tr>\n",
       "      <th>130</th>\n",
       "      <td>JUKK703H7F00XH</td>\n",
       "      <td>570918242399</td>\n",
       "      <td>flazz</td>\n",
       "      <td>Mumpuni Gunarto</td>\n",
       "      <td>F</td>\n",
       "      <td>1998</td>\n",
       "      <td>10D</td>\n",
       "      <td>Kampung Rambutan - Tanjung Priok</td>\n",
       "      <td>0.0</td>\n",
       "      <td>P00035</td>\n",
       "      <td>...</td>\n",
       "      <td>NaN</td>\n",
       "      <td>NaN</td>\n",
       "      <td>NaT</td>\n",
       "      <td>3500.0</td>\n",
       "      <td>25</td>\n",
       "      <td>0</td>\n",
       "      <td>Senin</td>\n",
       "      <td>NaN</td>\n",
       "      <td>NaN</td>\n",
       "      <td>20-39</td>\n",
       "    </tr>\n",
       "    <tr>\n",
       "      <th>...</th>\n",
       "      <td>...</td>\n",
       "      <td>...</td>\n",
       "      <td>...</td>\n",
       "      <td>...</td>\n",
       "      <td>...</td>\n",
       "      <td>...</td>\n",
       "      <td>...</td>\n",
       "      <td>...</td>\n",
       "      <td>...</td>\n",
       "      <td>...</td>\n",
       "      <td>...</td>\n",
       "      <td>...</td>\n",
       "      <td>...</td>\n",
       "      <td>...</td>\n",
       "      <td>...</td>\n",
       "      <td>...</td>\n",
       "      <td>...</td>\n",
       "      <td>...</td>\n",
       "      <td>...</td>\n",
       "      <td>...</td>\n",
       "      <td>...</td>\n",
       "    </tr>\n",
       "    <tr>\n",
       "      <th>37796</th>\n",
       "      <td>UJTW104Z9P85GX</td>\n",
       "      <td>6507084113625619</td>\n",
       "      <td>dki</td>\n",
       "      <td>Kairav Yulianti</td>\n",
       "      <td>F</td>\n",
       "      <td>2002</td>\n",
       "      <td>8M</td>\n",
       "      <td>S. Parman - Tanah Abang</td>\n",
       "      <td>0.0</td>\n",
       "      <td>B03062P</td>\n",
       "      <td>...</td>\n",
       "      <td>NaN</td>\n",
       "      <td>NaN</td>\n",
       "      <td>NaT</td>\n",
       "      <td>3500.0</td>\n",
       "      <td>21</td>\n",
       "      <td>6</td>\n",
       "      <td>Minggu</td>\n",
       "      <td>NaN</td>\n",
       "      <td>NaN</td>\n",
       "      <td>20-39</td>\n",
       "    </tr>\n",
       "    <tr>\n",
       "      <th>37799</th>\n",
       "      <td>GRKE798M1S93HC</td>\n",
       "      <td>4897976988760145</td>\n",
       "      <td>dki</td>\n",
       "      <td>Drs. Labuh Permata</td>\n",
       "      <td>F</td>\n",
       "      <td>2006</td>\n",
       "      <td>JAK.41</td>\n",
       "      <td>Kampung Melayu - Pulo Gadung</td>\n",
       "      <td>0.0</td>\n",
       "      <td>B02707P</td>\n",
       "      <td>...</td>\n",
       "      <td>NaN</td>\n",
       "      <td>NaN</td>\n",
       "      <td>NaT</td>\n",
       "      <td>0.0</td>\n",
       "      <td>17</td>\n",
       "      <td>2</td>\n",
       "      <td>Rabu</td>\n",
       "      <td>NaN</td>\n",
       "      <td>NaN</td>\n",
       "      <td>0-19</td>\n",
       "    </tr>\n",
       "    <tr>\n",
       "      <th>37878</th>\n",
       "      <td>FFUS474T7Q54QF</td>\n",
       "      <td>36067042340502</td>\n",
       "      <td>bni</td>\n",
       "      <td>Jatmiko Mansur</td>\n",
       "      <td>F</td>\n",
       "      <td>1965</td>\n",
       "      <td>D32</td>\n",
       "      <td>Cinere - Bundaran Senayan</td>\n",
       "      <td>0.0</td>\n",
       "      <td>B06642P</td>\n",
       "      <td>...</td>\n",
       "      <td>106.80370</td>\n",
       "      <td>7.0</td>\n",
       "      <td>2023-04-16 10:58:11</td>\n",
       "      <td>20000.0</td>\n",
       "      <td>58</td>\n",
       "      <td>6</td>\n",
       "      <td>Minggu</td>\n",
       "      <td>6.0</td>\n",
       "      <td>Minggu</td>\n",
       "      <td>40-59</td>\n",
       "    </tr>\n",
       "    <tr>\n",
       "      <th>37887</th>\n",
       "      <td>UELP204M1S64QX</td>\n",
       "      <td>4068989702474318</td>\n",
       "      <td>dki</td>\n",
       "      <td>Ajimat Pradana</td>\n",
       "      <td>F</td>\n",
       "      <td>1980</td>\n",
       "      <td>4D</td>\n",
       "      <td>Pulo Gadung 2 - Kuningan</td>\n",
       "      <td>0.0</td>\n",
       "      <td>P00269</td>\n",
       "      <td>...</td>\n",
       "      <td>106.86858</td>\n",
       "      <td>9.0</td>\n",
       "      <td>2023-04-04 15:38:58</td>\n",
       "      <td>3500.0</td>\n",
       "      <td>43</td>\n",
       "      <td>1</td>\n",
       "      <td>Selasa</td>\n",
       "      <td>1.0</td>\n",
       "      <td>Selasa</td>\n",
       "      <td>40-59</td>\n",
       "    </tr>\n",
       "    <tr>\n",
       "      <th>37889</th>\n",
       "      <td>FSZU331F3O29PS</td>\n",
       "      <td>4300800810103</td>\n",
       "      <td>online</td>\n",
       "      <td>Faizah Samosir</td>\n",
       "      <td>M</td>\n",
       "      <td>2009</td>\n",
       "      <td>JAK.18</td>\n",
       "      <td>Kalibata - Kuningan</td>\n",
       "      <td>0.0</td>\n",
       "      <td>B01450P</td>\n",
       "      <td>...</td>\n",
       "      <td>106.85280</td>\n",
       "      <td>20.0</td>\n",
       "      <td>2023-04-30 09:10:03</td>\n",
       "      <td>0.0</td>\n",
       "      <td>14</td>\n",
       "      <td>6</td>\n",
       "      <td>Minggu</td>\n",
       "      <td>6.0</td>\n",
       "      <td>Minggu</td>\n",
       "      <td>0-19</td>\n",
       "    </tr>\n",
       "  </tbody>\n",
       "</table>\n",
       "<p>2289 rows × 28 columns</p>\n",
       "</div>"
      ],
      "text/plain": [
       "              transID         payCardID payCardBank  \\\n",
       "6      HEMW326B9N91TV   213155822653833      emoney   \n",
       "30     TCKQ601Q5O01BC  3589380857722689         dki   \n",
       "70     OTGH855B8A29BP  3549158005951908         dki   \n",
       "89     QMHC825R0K38KM  3537543297101185         dki   \n",
       "130    JUKK703H7F00XH      570918242399       flazz   \n",
       "...               ...               ...         ...   \n",
       "37796  UJTW104Z9P85GX  6507084113625619         dki   \n",
       "37799  GRKE798M1S93HC  4897976988760145         dki   \n",
       "37878  FFUS474T7Q54QF    36067042340502         bni   \n",
       "37887  UELP204M1S64QX  4068989702474318         dki   \n",
       "37889  FSZU331F3O29PS     4300800810103      online   \n",
       "\n",
       "                     payCardName payCardSex  payCardBirthDate corridorID  \\\n",
       "6          R. Devi Hariyah, S.T.          M              1974     JAK.18   \n",
       "30         drg. Lukman Hidayanto          M              1995     JAK.46   \n",
       "70     Mustofa Wijayanti, M.Farm          M              1981         1T   \n",
       "89                Samsul Ramadan          M              1966        M11   \n",
       "130              Mumpuni Gunarto          F              1998        10D   \n",
       "...                          ...        ...               ...        ...   \n",
       "37796            Kairav Yulianti          F              2002         8M   \n",
       "37799         Drs. Labuh Permata          F              2006     JAK.41   \n",
       "37878             Jatmiko Mansur          F              1965        D32   \n",
       "37887             Ajimat Pradana          F              1980         4D   \n",
       "37889             Faizah Samosir          M              2009     JAK.18   \n",
       "\n",
       "                           corridorName  direction tapInStops  ...  \\\n",
       "6                   Kalibata - Kuningan        0.0    B00243P  ...   \n",
       "30             Pasar Minggu - Jagakarsa        1.0    B00001P  ...   \n",
       "70                 Cibubur - Balai Kota        0.0    B02408P  ...   \n",
       "89                                  NaN        1.0     P00158  ...   \n",
       "130    Kampung Rambutan - Tanjung Priok        0.0     P00035  ...   \n",
       "...                                 ...        ...        ...  ...   \n",
       "37796           S. Parman - Tanah Abang        0.0    B03062P  ...   \n",
       "37799      Kampung Melayu - Pulo Gadung        0.0    B02707P  ...   \n",
       "37878         Cinere - Bundaran Senayan        0.0    B06642P  ...   \n",
       "37887          Pulo Gadung 2 - Kuningan        0.0     P00269  ...   \n",
       "37889               Kalibata - Kuningan        0.0    B01450P  ...   \n",
       "\n",
       "      tapOutStopsLon  stopEndSeq          tapOutTime  payAmount Umur DayInInt  \\\n",
       "6                NaN         NaN                 NaT        0.0   49        0   \n",
       "30               NaN         NaN                 NaT        0.0   28        0   \n",
       "70               NaN         NaN                 NaT    20000.0   42        0   \n",
       "89         106.94537         7.0 2023-04-03 06:52:14     3500.0   57        0   \n",
       "130              NaN         NaN                 NaT     3500.0   25        0   \n",
       "...              ...         ...                 ...        ...  ...      ...   \n",
       "37796            NaN         NaN                 NaT     3500.0   21        6   \n",
       "37799            NaN         NaN                 NaT        0.0   17        2   \n",
       "37878      106.80370         7.0 2023-04-16 10:58:11    20000.0   58        6   \n",
       "37887      106.86858         9.0 2023-04-04 15:38:58     3500.0   43        1   \n",
       "37889      106.85280        20.0 2023-04-30 09:10:03        0.0   14        6   \n",
       "\n",
       "        DayIn  DayOutInt  DayOut  GrupUmur  \n",
       "6       Senin        NaN     NaN     40-59  \n",
       "30      Senin        NaN     NaN     20-39  \n",
       "70      Senin        NaN     NaN     40-59  \n",
       "89      Senin        0.0   Senin     40-59  \n",
       "130     Senin        NaN     NaN     20-39  \n",
       "...       ...        ...     ...       ...  \n",
       "37796  Minggu        NaN     NaN     20-39  \n",
       "37799    Rabu        NaN     NaN      0-19  \n",
       "37878  Minggu        6.0  Minggu     40-59  \n",
       "37887  Selasa        1.0  Selasa     40-59  \n",
       "37889  Minggu        6.0  Minggu      0-19  \n",
       "\n",
       "[2289 rows x 28 columns]"
      ]
     },
     "execution_count": 32,
     "metadata": {},
     "output_type": "execute_result"
    }
   ],
   "source": [
    "tj[tj['tapOutStops'].isna()]"
   ]
  },
  {
   "cell_type": "code",
   "execution_count": 33,
   "metadata": {},
   "outputs": [
    {
     "data": {
      "image/png": "[encoded data removed]",
      "text/plain": [
       "<Figure size 1500x500 with 1 Axes>"
      ]
     },
     "metadata": {},
     "output_type": "display_data"
    }
   ],
   "source": [
    "tj['tapInTime'] = pd.to_datetime(tj['tapInTime'], format='%H:%M')\n",
    "\n",
    "lansia_df = tj[tj['Umur'] >= 50]\n",
    "\n",
    "\n",
    "transaction_count_per_hour = lansia_df.groupby(lansia_df['tapInTime'].dt.hour)['Umur'].count()\n",
    "\n",
    "transaction_count_per_hour = transaction_count_per_hour.reindex(range(0, 24), fill_value=0)\n",
    "\n",
    "plt.figure(figsize=(15, 5))\n",
    "bar_plot = plt.bar(transaction_count_per_hour.index, transaction_count_per_hour.values, color='skyblue')\n",
    "\n",
    "plt.xticks(rotation=45, ha=\"right\")\n",
    "\n",
    "plt.xlabel('Jam')\n",
    "plt.ylabel('Jumlah Transaksi Lansia (Umur >= 50)')\n",
    "plt.title('Peak Hour Penumpang Lansia')\n",
    "\n",
    "for bar in bar_plot:\n",
    "    yval = bar.get_height()\n",
    "    plt.text(bar.get_x() + bar.get_width()/2, yval, round(yval, 2), ha='center', va='bottom')\n",
    "\n",
    "plt.xticks(transaction_count_per_hour.index)\n",
    "\n",
    "plt.show()"
   ]
  },
  {
   "cell_type": "code",
   "execution_count": 34,
   "metadata": {},
   "outputs": [],
   "source": [
    "y = tj['corridorName'].value_counts().head()"
   ]
  },
  {
   "cell_type": "code",
   "execution_count": 35,
   "metadata": {},
   "outputs": [
    {
     "data": {
      "image/png": "[encoded data removed]",
      "text/plain": [
       "<Figure size 640x480 with 1 Axes>"
      ]
     },
     "metadata": {},
     "output_type": "display_data"
    }
   ],
   "source": [
    "plt.barh(y.index, y.values, color='blue')\n",
    "\n",
    "plt.xlabel('Total Penumpang')\n",
    "plt.title('Corridor Dimana banyak melakukan Tap in')\n",
    "\n",
    "for index, value in enumerate(y.values):\n",
    "    plt.text(value, index, value, va='center')\n",
    "plt.xticks(range(100, 401, 50))\n",
    "\n",
    "plt.show()"
   ]
  },
  {
   "cell_type": "markdown",
   "metadata": {},
   "source": [
    "# Uji Statistik "
   ]
  },
  {
   "cell_type": "markdown",
   "metadata": {},
   "source": [
    "Membuat dataframe baru, perbaris isinya total trip hari ini, tapi ada kolom tambahan isinya hari kerja/weekend"
   ]
  },
  {
   "cell_type": "code",
   "execution_count": 36,
   "metadata": {},
   "outputs": [],
   "source": [
    "import scipy.stats as stats\n",
    "tj[\"tapInTime\"]=pd.to_datetime(tj[\"tapInTime\"])\n",
    "tj[\"minggutapin\"]=tj[\"tapInTime\"].dt.isocalendar().week\n",
    "tj[\"haritapin\"]=tj[\"tapInTime\"].dt.day_of_week\n",
    "def hari(x):\n",
    "    if x==6 or x==5:\n",
    "        return \"weekend\"\n",
    "    else:\n",
    "        return \"hari kerja\"\n",
    "tj[\"harikerja\"]=tj[\"haritapin\"].apply(hari)"
   ]
  },
  {
   "cell_type": "markdown",
   "metadata": {},
   "source": [
    "Membuat barplot buat liat perbedaan rata/rata atau median trip antara hari kerja/weekend "
   ]
  },
  {
   "cell_type": "markdown",
   "metadata": {},
   "source": [
    "Visualisasi ini memberikan gambaran distribusi median frekuensi aktivitas pada hari kerja dalam dataset TJ. Jika garis vertikal pada batang lebih tinggi pada hari kerja, menandakan aktivitas cenderung lebih tinggi pada hari tersebut. Sebaliknya, garis yang lebih rendah pada hari kerja dapat menunjukkan aktivitas yang lebih rendah pada hari-hari tersebut."
   ]
  },
  {
   "cell_type": "code",
   "execution_count": 37,
   "metadata": {},
   "outputs": [
    {
     "data": {
      "text/html": [
       "<div>\n",
       "<style scoped>\n",
       "    .dataframe tbody tr th:only-of-type {\n",
       "        vertical-align: middle;\n",
       "    }\n",
       "\n",
       "    .dataframe tbody tr th {\n",
       "        vertical-align: top;\n",
       "    }\n",
       "\n",
       "    .dataframe thead th {\n",
       "        text-align: right;\n",
       "    }\n",
       "</style>\n",
       "<table border=\"1\" class=\"dataframe\">\n",
       "  <thead>\n",
       "    <tr style=\"text-align: right;\">\n",
       "      <th></th>\n",
       "      <th>haritapin</th>\n",
       "      <th>harikerja</th>\n",
       "      <th>count</th>\n",
       "    </tr>\n",
       "  </thead>\n",
       "  <tbody>\n",
       "    <tr>\n",
       "      <th>2</th>\n",
       "      <td>0</td>\n",
       "      <td>hari kerja</td>\n",
       "      <td>6838</td>\n",
       "    </tr>\n",
       "    <tr>\n",
       "      <th>3</th>\n",
       "      <td>1</td>\n",
       "      <td>hari kerja</td>\n",
       "      <td>6835</td>\n",
       "    </tr>\n",
       "    <tr>\n",
       "      <th>1</th>\n",
       "      <td>2</td>\n",
       "      <td>hari kerja</td>\n",
       "      <td>6840</td>\n",
       "    </tr>\n",
       "    <tr>\n",
       "      <th>4</th>\n",
       "      <td>3</td>\n",
       "      <td>hari kerja</td>\n",
       "      <td>6834</td>\n",
       "    </tr>\n",
       "    <tr>\n",
       "      <th>0</th>\n",
       "      <td>4</td>\n",
       "      <td>hari kerja</td>\n",
       "      <td>6851</td>\n",
       "    </tr>\n",
       "    <tr>\n",
       "      <th>6</th>\n",
       "      <td>5</td>\n",
       "      <td>weekend</td>\n",
       "      <td>1830</td>\n",
       "    </tr>\n",
       "    <tr>\n",
       "      <th>5</th>\n",
       "      <td>6</td>\n",
       "      <td>weekend</td>\n",
       "      <td>1872</td>\n",
       "    </tr>\n",
       "  </tbody>\n",
       "</table>\n",
       "</div>"
      ],
      "text/plain": [
       "   haritapin   harikerja  count\n",
       "2          0  hari kerja   6838\n",
       "3          1  hari kerja   6835\n",
       "1          2  hari kerja   6840\n",
       "4          3  hari kerja   6834\n",
       "0          4  hari kerja   6851\n",
       "6          5     weekend   1830\n",
       "5          6     weekend   1872"
      ]
     },
     "execution_count": 37,
     "metadata": {},
     "output_type": "execute_result"
    },
    {
     "data": {
      "image/png": "[encoded data removed]",
      "text/plain": [
       "<Figure size 640x480 with 1 Axes>"
      ]
     },
     "metadata": {},
     "output_type": "display_data"
    }
   ],
   "source": [
    "data=tj[[\"haritapin\",\"harikerja\"]].value_counts().reset_index().sort_values(by=[\"haritapin\"])\n",
    "sns.barplot(data=data,x=\"harikerja\",y=\"count\")\n",
    "data"
   ]
  },
  {
   "cell_type": "markdown",
   "metadata": {},
   "source": [
    "data terdistribusi secara rata"
   ]
  },
  {
   "cell_type": "code",
   "execution_count": 60,
   "metadata": {},
   "outputs": [
    {
     "data": {
      "image/png": "[encoded data removed]",
      "text/plain": [
       "<Figure size 1000x600 with 1 Axes>"
      ]
     },
     "metadata": {},
     "output_type": "display_data"
    }
   ],
   "source": [
    "tj['tapInTime'] = pd.to_datetime(tj['tapInTime'])\n",
    "\n",
    "tj['hari'] = tj['tapInTime'].dt.day_name()\n",
    "records_per_day = tj['hari'].value_counts().reset_index()\n",
    "avg_records_per_day = tj['hari'].value_counts().mean()\n",
    "\n",
    "plt.figure(figsize=(10, 6))\n",
    "\n",
    "ax = sns.barplot(data=records_per_day, x='hari', y='count', palette='viridis')  # Mengganti fungsi dari sns.histplot ke sns.barplot\n",
    "plt.axhline(y=avg_records_per_day, color='red', linestyle='--', label=f'Rata-Rata ({avg_records_per_day:.2f})')\n",
    "\n",
    "for p in ax.patches:\n",
    "    ax.annotate(f'{p.get_height():.0f}', (p.get_x() + p.get_width() / 2., p.get_height()),\n",
    "                ha='center', va='center', fontsize=10, color='black', xytext=(0, 5),\n",
    "                textcoords='offset points')\n",
    "\n",
    "plt.title('Rata-Rata Jumlah Records pada Tiap Hari')\n",
    "plt.xlabel('Hari')\n",
    "plt.ylabel('Jumlah Records')\n",
    "\n",
    "plt.legend()\n",
    "plt.show()\n"
   ]
  },
  {
   "cell_type": "markdown",
   "metadata": {},
   "source": [
    "secara visual terlihat bahwa aktivitas lebih tinggi pada hari kerja, dan sekarang kita akan menggunakan uji statistik untuk memperkuat argumen ini"
   ]
  },
  {
   "cell_type": "code",
   "execution_count": 39,
   "metadata": {},
   "outputs": [
    {
     "data": {
      "text/html": [
       "<div>\n",
       "<style scoped>\n",
       "    .dataframe tbody tr th:only-of-type {\n",
       "        vertical-align: middle;\n",
       "    }\n",
       "\n",
       "    .dataframe tbody tr th {\n",
       "        vertical-align: top;\n",
       "    }\n",
       "\n",
       "    .dataframe thead th {\n",
       "        text-align: right;\n",
       "    }\n",
       "</style>\n",
       "<table border=\"1\" class=\"dataframe\">\n",
       "  <thead>\n",
       "    <tr style=\"text-align: right;\">\n",
       "      <th></th>\n",
       "      <th>haritapin</th>\n",
       "      <th>harikerja</th>\n",
       "      <th>count</th>\n",
       "    </tr>\n",
       "  </thead>\n",
       "  <tbody>\n",
       "    <tr>\n",
       "      <th>2</th>\n",
       "      <td>0</td>\n",
       "      <td>hari kerja</td>\n",
       "      <td>6838</td>\n",
       "    </tr>\n",
       "    <tr>\n",
       "      <th>3</th>\n",
       "      <td>1</td>\n",
       "      <td>hari kerja</td>\n",
       "      <td>6835</td>\n",
       "    </tr>\n",
       "    <tr>\n",
       "      <th>1</th>\n",
       "      <td>2</td>\n",
       "      <td>hari kerja</td>\n",
       "      <td>6840</td>\n",
       "    </tr>\n",
       "    <tr>\n",
       "      <th>4</th>\n",
       "      <td>3</td>\n",
       "      <td>hari kerja</td>\n",
       "      <td>6834</td>\n",
       "    </tr>\n",
       "    <tr>\n",
       "      <th>0</th>\n",
       "      <td>4</td>\n",
       "      <td>hari kerja</td>\n",
       "      <td>6851</td>\n",
       "    </tr>\n",
       "    <tr>\n",
       "      <th>6</th>\n",
       "      <td>5</td>\n",
       "      <td>weekend</td>\n",
       "      <td>1830</td>\n",
       "    </tr>\n",
       "    <tr>\n",
       "      <th>5</th>\n",
       "      <td>6</td>\n",
       "      <td>weekend</td>\n",
       "      <td>1872</td>\n",
       "    </tr>\n",
       "  </tbody>\n",
       "</table>\n",
       "</div>"
      ],
      "text/plain": [
       "   haritapin   harikerja  count\n",
       "2          0  hari kerja   6838\n",
       "3          1  hari kerja   6835\n",
       "1          2  hari kerja   6840\n",
       "4          3  hari kerja   6834\n",
       "0          4  hari kerja   6851\n",
       "6          5     weekend   1830\n",
       "5          6     weekend   1872"
      ]
     },
     "execution_count": 39,
     "metadata": {},
     "output_type": "execute_result"
    }
   ],
   "source": [
    "data"
   ]
  },
  {
   "cell_type": "code",
   "execution_count": 40,
   "metadata": {},
   "outputs": [
    {
     "name": "stdout",
     "output_type": "stream",
     "text": [
      "Statistik Uji Mann-Whitney: 10.0\n",
      "Nilai p: 0.047619047619047616\n",
      "(Tolak H0)Kelompok pertama secara signifikan lebih besar dari kelompok kedua.\n"
     ]
    }
   ],
   "source": [
    "hari_kerja=data[data[\"harikerja\"]==\"hari kerja\"][\"count\"]\n",
    "weekend=data[data[\"harikerja\"]==\"weekend\"][\"count\"]\n",
    "\n",
    "statistik_uji, p_value = stats.mannwhitneyu(hari_kerja, weekend, alternative='greater')\n",
    "\n",
    "print(f'Statistik Uji Mann-Whitney: {statistik_uji}')\n",
    "print(f'Nilai p: {p_value}')\n",
    "\n",
    "alpha = 0.05\n",
    "if p_value < alpha:\n",
    "    print('(Tolak H0)Kelompok pertama secara signifikan lebih besar dari kelompok kedua.')\n",
    "else:\n",
    "    print('(Gagal Tolak H0)Tidak terdapat bukti yang cukup untuk menyatakan bahwa kelompok pertama lebih besar dari kelompok kedua.')"
   ]
  },
  {
   "cell_type": "markdown",
   "metadata": {},
   "source": [
    "ini menunjukkan bahwa tempat ini sering digunakan oleh pekerja, seperti di halte yang memiliki vending machine kopi. Atau barang atau layanan lain yang biasa dibeli oleh orang-orang kantor ketika merasa lelah atau lelah.\n"
   ]
  },
  {
   "cell_type": "markdown",
   "metadata": {},
   "source": [
    "# Kesimpulan dan Rekomendasi untuk Analisis Data Penumpang Transjakarta"
   ]
  },
  {
   "cell_type": "markdown",
   "metadata": {},
   "source": [
    "Berdasarkan analisis data penumpang Transjakarta, berikut adalah kesimpulan dan rekomendasi yang dapat diambil:\n",
    "\n",
    "1. Rute dan Aksesibilitas:\n",
    "- Memastikan rute-rute yang sering digunakan oleh lansia memiliki aksesibilitas yang baik, termasuk halte-halte dengan fasilitas yang ramah lansia seperti trotoar yang datar, penyeberangan aman, dan kursi di halte.\n",
    "\n",
    "2. Pelatihan Khusus untuk Kru:\n",
    "- Kru Transjakarta dapat diberikan pelatihan khusus dalam penanganan dan pelayanan kepada penumpang lansia.\n",
    "Memastikan bahwa kru memiliki pemahaman tentang kebutuhan dan tantangan khusus yang dihadapi oleh lansia selama perjalanan.\n",
    "\n",
    "3. Waktu Perjalanan dan Jam Sibuk:\n",
    "- Identifikasi jam-jam sibuk dan rute-rute yang paling padat membantu dalam perencanaan penjadwalan dan optimalisasi layanan.\n",
    "- Mungkin diperlukan peningkatan kapasitas pada jam-jam tertentu untuk mengatasi lonjakan penumpang.\n",
    "\n",
    "4. Kepuasan Penumpang:\n",
    "- Perlunya penambahan analisis sentimen dari data umpan balik penumpang dapat memberikan wawasan mengenai kepuasan mereka terhadap layanan Transjakarta.\n",
    "\n",
    "\n",
    "Rekomendasi:\n",
    "\n",
    "Membentuk kelompok kerja atau forum untuk berkomunikasi langsung dengan penumpang lansia, mendengarkan kebutuhan dan masukan mereka.\n",
    "Menggalakkan kampanye kesadaran masyarakat tentang hak dan kewajiban dalam mendukung pelayanan yang inklusif bagi lansia.\n",
    "Mengumpulkan umpan balik secara rutin melalui survei atau forum partisipatif untuk terus meningkatkan pelayanan.\n",
    "Dengan mengambil langkah-langkah ini, Transjakarta dapat menciptakan lingkungan yang lebih ramah lansia, meningkatkan aksesibilitas, dan memberikan pengalaman perjalanan yang positif bagi penumpang lansia."
   ]
  },
  {
   "cell_type": "code",
   "execution_count": 41,
   "metadata": {},
   "outputs": [],
   "source": [
    "tj.to_csv(\"Capstone Module 2 TJ.csv\")"
   ]
  }
 ],
 "metadata": {
  "kernelspec": {
   "display_name": "base",
   "language": "python",
   "name": "python3"
  },
  "language_info": {
   "codemirror_mode": {
    "name": "ipython",
    "version": 3
   },
   "file_extension": ".py",
   "mimetype": "text/x-python",
   "name": "python",
   "nbconvert_exporter": "python",
   "pygments_lexer": "ipython3",
   "version": "3.11.5"
  }
 },
 "nbformat": 4,
 "nbformat_minor": 2
}
